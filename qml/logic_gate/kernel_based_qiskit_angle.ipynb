{
 "cells": [
  {
   "cell_type": "markdown",
   "id": "dbe3a659",
   "metadata": {},
   "source": [
    "# Kernel based qiskit angle"
   ]
  },
  {
   "cell_type": "markdown",
   "id": "1836a689",
   "metadata": {},
   "source": [
    "## Load and preprocess our data"
   ]
  },
  {
   "cell_type": "code",
   "execution_count": 1,
   "id": "988f3dfd",
   "metadata": {
    "scrolled": true
   },
   "outputs": [],
   "source": [
    "# get pandas running\n",
    "import pandas as pd\n",
    "import numpy as np"
   ]
  },
  {
   "cell_type": "code",
   "execution_count": 2,
   "id": "41a4a07a",
   "metadata": {
    "scrolled": true
   },
   "outputs": [
    {
     "name": "stdout",
     "output_type": "stream",
     "text": [
      "(1000, 4)\n",
      "Index(['Unnamed: 0', 'X1', 'X2', 'Target'], dtype='object')\n"
     ]
    }
   ],
   "source": [
    "#read in dataset\n",
    "df2 = pd.read_excel(\"XOR Fuzzy.xlsx\")\n",
    "df2.head()\n",
    "\n",
    "print(df2.shape)\n",
    "print(df2.columns)\n",
    "description = df2.describe()"
   ]
  },
  {
   "cell_type": "code",
   "execution_count": 3,
   "id": "38f58e12",
   "metadata": {},
   "outputs": [
    {
     "name": "stdout",
     "output_type": "stream",
     "text": [
      "Index(['X1', 'X2', 'Target'], dtype='object')\n",
      "                X1           X2      Target\n",
      "count  1000.000000  1000.000000  1000.00000\n",
      "mean      0.488224     0.493889     0.50000\n",
      "std       0.290966     0.296587     0.50025\n",
      "min       0.000067     0.000428     0.00000\n",
      "25%       0.230494     0.229903     0.00000\n",
      "50%       0.495980     0.499074     0.50000\n",
      "75%       0.745465     0.752604     1.00000\n",
      "max       0.997674     0.998858     1.00000\n",
      "               X1          X2      Target\n",
      "count  700.000000  700.000000  700.000000\n",
      "mean     0.479748    0.507664    0.502857\n",
      "std      0.294930    0.296724    0.500349\n",
      "min      0.000067    0.000428    0.000000\n",
      "25%      0.210721    0.239447    0.000000\n",
      "50%      0.481823    0.521934    1.000000\n",
      "75%      0.740105    0.773955    1.000000\n",
      "max      0.997674    0.998858    1.000000\n",
      "               X1          X2      Target\n",
      "count  300.000000  300.000000  300.000000\n",
      "mean     0.508001    0.461747    0.493333\n",
      "std      0.280987    0.294257    0.500791\n",
      "min      0.002516    0.005700    0.000000\n",
      "25%      0.269504    0.201445    0.000000\n",
      "50%      0.510380    0.398004    0.000000\n",
      "75%      0.760852    0.731265    1.000000\n",
      "max      0.994101    0.997510    1.000000\n"
     ]
    }
   ],
   "source": [
    "# drop not needed columns\n",
    "df2.drop(columns=df2.columns[0], axis=1, inplace=True)\n",
    "print(df2.columns)\n",
    "description = df2.describe()\n",
    "print(description)\n",
    "\n",
    "# split in train and test data\n",
    "df_train, df_test = np.split(df2, [int(len(df2)*0.7)])\n",
    "\n",
    "# see if train and test data are quite the same\n",
    "print(df_train.describe())\n",
    "print(df_test.describe())"
   ]
  },
  {
   "cell_type": "code",
   "execution_count": 4,
   "id": "f4b9bf0b",
   "metadata": {},
   "outputs": [
    {
     "name": "stdout",
     "output_type": "stream",
     "text": [
      "[[0.59140793 0.61561936]\n",
      " [0.1318304  0.34636674]\n",
      " [0.17758343 0.8405715 ]\n",
      " ...\n",
      " [0.99342062 0.24940961]\n",
      " [0.69330392 0.30243006]\n",
      " [0.00534434 0.93836599]]\n",
      "[-1. -1.  1.  1.  1. -1.  1.  1. -1. -1. -1. -1.  1.  1. -1.  1.  1.  1.\n",
      " -1.  1. -1.  1. -1. -1. -1.  1. -1.  1. -1.  1.  1.  1. -1.  1.  1.  1.\n",
      "  1.  1.  1. -1. -1. -1.  1.  1. -1. -1.  1. -1. -1.  1. -1.  1. -1.  1.\n",
      " -1.  1.  1. -1.  1. -1. -1.  1.  1. -1. -1. -1. -1.  1. -1.  1.  1.  1.\n",
      " -1.  1. -1. -1.  1.  1.  1.  1. -1.  1. -1. -1. -1. -1. -1. -1.  1. -1.\n",
      " -1.  1. -1.  1. -1. -1. -1.  1. -1. -1.  1. -1.  1. -1.  1. -1. -1. -1.\n",
      "  1. -1.  1. -1. -1. -1. -1.  1. -1. -1.  1. -1. -1.  1.  1. -1. -1. -1.\n",
      " -1.  1. -1. -1.  1. -1. -1. -1.  1.  1.  1.  1.  1. -1.  1. -1. -1.  1.\n",
      " -1. -1.  1.  1. -1. -1. -1.  1. -1.  1. -1.  1. -1. -1. -1.  1.  1.  1.\n",
      " -1. -1. -1. -1.  1.  1.  1.  1.  1.  1.  1.  1.  1.  1.  1. -1. -1. -1.\n",
      "  1.  1. -1.  1. -1.  1. -1.  1.  1.  1. -1.  1.  1.  1.  1. -1. -1.  1.\n",
      "  1.  1. -1. -1.  1. -1.  1. -1. -1. -1. -1.  1. -1. -1.  1.  1. -1.  1.\n",
      " -1. -1. -1. -1.  1. -1. -1. -1.  1.  1.  1.  1. -1.  1. -1. -1.  1. -1.\n",
      "  1. -1.  1. -1. -1.  1. -1. -1. -1. -1.  1. -1.  1. -1. -1.  1.  1.  1.\n",
      " -1. -1. -1. -1.  1.  1. -1. -1.  1.  1.  1.  1. -1. -1.  1.  1.  1. -1.\n",
      "  1.  1. -1. -1.  1.  1.  1. -1.  1.  1. -1. -1. -1.  1.  1.  1. -1.  1.\n",
      " -1. -1.  1.  1.  1. -1. -1. -1.  1. -1. -1.  1. -1. -1.  1. -1. -1.  1.\n",
      " -1. -1. -1. -1.  1.  1. -1. -1.  1.  1.  1.  1. -1.  1. -1.  1.  1.  1.\n",
      "  1. -1. -1. -1. -1.  1.  1. -1.  1.  1.  1.  1. -1. -1. -1.  1.  1.  1.\n",
      "  1. -1.  1.  1.  1. -1.  1.  1. -1.  1. -1.  1.  1.  1.  1.  1.  1.  1.\n",
      "  1.  1. -1.  1.  1. -1.  1.  1.  1.  1.  1. -1. -1. -1. -1.  1. -1.  1.\n",
      " -1. -1.  1. -1. -1.  1.  1.  1.  1.  1.  1. -1. -1. -1.  1. -1. -1. -1.\n",
      "  1. -1.  1. -1.  1. -1.  1.  1. -1.  1. -1.  1. -1. -1. -1.  1. -1. -1.\n",
      " -1. -1. -1. -1. -1. -1. -1.  1. -1. -1. -1. -1.  1.  1. -1. -1. -1. -1.\n",
      "  1.  1. -1. -1.  1.  1.  1.  1.  1.  1. -1.  1.  1.  1.  1. -1.  1. -1.\n",
      "  1.  1.  1.  1. -1.  1. -1. -1. -1.  1.  1. -1. -1.  1. -1.  1.  1.  1.\n",
      "  1. -1. -1. -1.  1.  1. -1. -1. -1. -1. -1.  1.  1.  1. -1. -1.  1. -1.\n",
      " -1. -1.  1.  1.  1. -1. -1. -1.  1.  1. -1.  1. -1. -1. -1. -1. -1. -1.\n",
      " -1.  1. -1.  1.  1.  1. -1. -1. -1. -1.  1. -1. -1.  1. -1.  1. -1. -1.\n",
      "  1. -1.  1.  1. -1.  1.  1. -1.  1.  1.  1. -1. -1. -1.  1. -1. -1.  1.\n",
      "  1.  1.  1. -1. -1.  1.  1.  1. -1.  1.  1.  1.  1. -1.  1. -1.  1. -1.\n",
      " -1.  1. -1. -1. -1.  1.  1.  1. -1.  1.  1. -1. -1. -1.  1. -1. -1. -1.\n",
      "  1.  1. -1. -1.  1.  1. -1.  1. -1. -1.  1.  1. -1. -1.  1. -1.  1.  1.\n",
      " -1. -1.  1.  1.  1. -1.  1. -1. -1.  1. -1. -1. -1. -1.  1. -1.  1.  1.\n",
      "  1. -1. -1.  1.  1. -1. -1. -1. -1. -1.  1. -1. -1.  1. -1. -1.  1.  1.\n",
      "  1.  1.  1.  1.  1. -1. -1. -1. -1.  1.  1.  1. -1.  1.  1.  1.  1. -1.\n",
      " -1.  1.  1.  1.  1.  1.  1.  1. -1. -1.  1.  1.  1.  1. -1.  1. -1.  1.\n",
      " -1. -1.  1. -1.  1.  1.  1. -1.  1.  1.  1. -1. -1. -1. -1.  1. -1.  1.\n",
      " -1. -1. -1. -1.  1.  1.  1.  1.  1.  1. -1. -1. -1.  1.  1.  1.]\n"
     ]
    }
   ],
   "source": [
    "# split in input X and output y\n",
    "def get_features_and_targets(df):\n",
    "    X = df.drop([\"Target\"], axis=1).values\n",
    "    y = np.stack(df[\"Target\"])\n",
    "    return X, y\n",
    "\n",
    "X_train, y_train = get_features_and_targets(df_train)\n",
    "X_test, y_test = get_features_and_targets(df_test)\n",
    "\n",
    "y_train = y_train * 2 - np.ones(len(y_train))  # shift label from {0, 1} to {-1, 1}\n",
    "y_test = y_test * 2 - np.ones(len(y_test))  # shift label from {0, 1} to {-1, 1}\n",
    "\n",
    "print(X_train)\n",
    "print(y_train)"
   ]
  },
  {
   "cell_type": "code",
   "execution_count": 5,
   "id": "3d4150d2",
   "metadata": {},
   "outputs": [
    {
     "name": "stdout",
     "output_type": "stream",
     "text": [
      "X = [0.59140793 0.61561936], Y = -1\n",
      "X = [0.1318304  0.34636674], Y = -1\n",
      "X = [0.17758343 0.8405715 ], Y =  1\n",
      "X = [0.52243622 0.34914641], Y =  1\n",
      "X = [0.78618825 0.11890013], Y =  1\n",
      "X = [0.96705057 0.87746943], Y = -1\n",
      "X = [0.55442653 0.21768447], Y =  1\n",
      "X = [0.16945119 0.82208864], Y =  1\n",
      "X = [0.18198346 0.2113241 ], Y = -1\n",
      "X = [0.80660522 0.61645197], Y = -1\n",
      "...\n"
     ]
    }
   ],
   "source": [
    "for i in range(10):\n",
    "    print(\"X = {}, Y = {: d}\".format(X_train[i], int(y_train[i])))\n",
    "\n",
    "print(\"...\")"
   ]
  },
  {
   "cell_type": "markdown",
   "id": "dbc7f751",
   "metadata": {},
   "source": [
    "## Now introduce our kernel"
   ]
  },
  {
   "cell_type": "code",
   "execution_count": 6,
   "id": "16826b74",
   "metadata": {},
   "outputs": [
    {
     "name": "stdout",
     "output_type": "stream",
     "text": [
      "QSVC classification test score: 0.97\n"
     ]
    }
   ],
   "source": [
    "from qiskit.circuit.library import ZZFeatureMap\n",
    "from qiskit.primitives import StatevectorSampler as Sampler\n",
    "from qiskit_machine_learning.state_fidelities import ComputeUncompute\n",
    "from qiskit_machine_learning.kernels import FidelityQuantumKernel\n",
    "from qiskit_machine_learning.algorithms import QSVC\n",
    "\n",
    "adhoc_dimension = 2\n",
    "\n",
    "adhoc_feature_map = ZZFeatureMap(feature_dimension=adhoc_dimension, reps=2, entanglement=\"linear\")\n",
    "\n",
    "sampler = Sampler()\n",
    "\n",
    "fidelity = ComputeUncompute(sampler=sampler)\n",
    "\n",
    "adhoc_kernel = FidelityQuantumKernel(fidelity=fidelity, feature_map=adhoc_feature_map)\n",
    "\n",
    "adhoc_svc = QSVC(quantum_kernel=adhoc_kernel)\n",
    "adhoc_svc.fit(X_train, y_train)\n",
    "qsvc_score = adhoc_svc.score(X_test, y_test)\n",
    "\n",
    "print(f\"QSVC classification test score: {qsvc_score}\")"
   ]
  },
  {
   "cell_type": "markdown",
   "id": "201232ca",
   "metadata": {},
   "source": [
    "Score of 0.97. This seems to be quite good!"
   ]
  },
  {
   "cell_type": "code",
   "execution_count": 7,
   "id": "c5a4c225",
   "metadata": {},
   "outputs": [],
   "source": [
    "predictions = adhoc_svc.predict(X_test)"
   ]
  },
  {
   "cell_type": "markdown",
   "id": "758377c2",
   "metadata": {},
   "source": [
    "## Now some results"
   ]
  },
  {
   "cell_type": "code",
   "execution_count": 8,
   "id": "011bcc20",
   "metadata": {},
   "outputs": [
    {
     "name": "stdout",
     "output_type": "stream",
     "text": [
      "X = [0.17513025 0.30930543], Y-test = -1, Y-predicted = -1\n",
      "X = [0.26482202 0.47322026], Y-test = -1, Y-predicted = -1\n",
      "X = [0.45537221 0.2772    ], Y-test = -1, Y-predicted = -1\n",
      "X = [0.21787986 0.78921691], Y-test =  1, Y-predicted =  1\n",
      "X = [0.63338171 0.13406739], Y-test =  1, Y-predicted =  1\n",
      "X = [0.86626834 0.24023816], Y-test =  1, Y-predicted =  1\n",
      "X = [0.33529998 0.86839197], Y-test =  1, Y-predicted =  1\n",
      "X = [0.7809938 0.6456125], Y-test = -1, Y-predicted = -1\n",
      "X = [0.08044739 0.68962111], Y-test =  1, Y-predicted =  1\n",
      "X = [0.03490885 0.64884414], Y-test =  1, Y-predicted =  1\n",
      "...\n"
     ]
    }
   ],
   "source": [
    "for i in range(10):\n",
    "    print(\"X = {}, Y-test = {: d}, Y-predicted = {: d}\".format(X_test[i], int(y_test[i]), int(predictions[i])))\n",
    "\n",
    "print(\"...\")"
   ]
  },
  {
   "cell_type": "code",
   "execution_count": 9,
   "id": "3ee4c8bf",
   "metadata": {},
   "outputs": [
    {
     "name": "stdout",
     "output_type": "stream",
     "text": [
      "F1 Score: 0.962\n",
      "Accuracy: 0.963\n",
      "Recall: 0.932\n",
      "Precision: 0.993\n"
     ]
    }
   ],
   "source": [
    "from sklearn.metrics import f1_score, accuracy_score, recall_score, precision_score\n",
    "print('F1 Score: %.3f' % f1_score(y_test, predictions))\n",
    "print('Accuracy: %.3f' % accuracy_score(y_test, predictions))\n",
    "print('Recall: %.3f' % recall_score(y_test, predictions))\n",
    "print('Precision: %.3f' % precision_score(y_test, predictions))\n"
   ]
  },
  {
   "cell_type": "markdown",
   "id": "0ea04a66",
   "metadata": {},
   "source": [
    "## Confusion matrix"
   ]
  },
  {
   "cell_type": "code",
   "execution_count": 10,
   "id": "5bb48449",
   "metadata": {},
   "outputs": [
    {
     "data": {
      "image/png": "[encoded data removed]",
      "text/plain": [
       "<Figure size 500x500 with 1 Axes>"
      ]
     },
     "metadata": {},
     "output_type": "display_data"
    }
   ],
   "source": [
    "from sklearn.metrics import confusion_matrix\n",
    "import matplotlib.pyplot as plt\n",
    "\n",
    "#\n",
    "# Calculate the confusion matrix\n",
    "#\n",
    "conf_matrix = confusion_matrix(y_true=y_test, y_pred=predictions)\n",
    "#\n",
    "# Print the confusion matrix using Matplotlib\n",
    "#\n",
    "fig, ax = plt.subplots(figsize=(5, 5))\n",
    "ax.matshow(conf_matrix, cmap=plt.cm.Oranges, alpha=0.3)\n",
    "for i in range(conf_matrix.shape[0]):\n",
    "    for j in range(conf_matrix.shape[1]):\n",
    "        ax.text(x=j, y=i,s=conf_matrix[i, j], va='center', ha='center', size='xx-large')\n",
    " \n",
    "plt.xlabel('Predictions', fontsize=18)\n",
    "plt.ylabel('Actuals', fontsize=18)\n",
    "plt.title('Confusion Matrix', fontsize=18)\n",
    "plt.show()"
   ]
  },
  {
   "cell_type": "code",
   "execution_count": null,
   "id": "d5b46997",
   "metadata": {},
   "outputs": [],
   "source": []
  }
 ],
 "metadata": {
  "kernelspec": {
   "display_name": "Python 3 (ipykernel)",
   "language": "python",
   "name": "python3"
  },
  "language_info": {
   "codemirror_mode": {
    "name": "ipython",
    "version": 3
   },
   "file_extension": ".py",
   "mimetype": "text/x-python",
   "name": "python",
   "nbconvert_exporter": "python",
   "pygments_lexer": "ipython3",
   "version": "3.10.12"
  }
 },
 "nbformat": 4,
 "nbformat_minor": 5
}
