{
 "cells": [
  {
   "cell_type": "markdown",
   "id": "0c032170-3cea-4164-a730-40dff8a7ac94",
   "metadata": {},
   "source": [
    "# Adversarial attacks and robustness for QML\n",
    "- https://pennylane.ai/qml/demos/tutorial_adversarial_attacks_QML"
   ]
  },
  {
   "cell_type": "code",
   "execution_count": 1,
   "id": "58e4f92c-7468-4903-9f3f-9dcb54a6b508",
   "metadata": {},
   "outputs": [],
   "source": [
    "import pennylane as qml\n",
    "from pennylane import numpy as np\n",
    "import torch\n",
    "from matplotlib import pyplot as plt"
   ]
  },
  {
   "cell_type": "markdown",
   "id": "44e5d224-00cd-4225-8fc3-91f374b8c7f8",
   "metadata": {},
   "source": [
    "## Datatset and visualization"
   ]
  },
  {
   "cell_type": "code",
   "execution_count": 2,
   "id": "083b587f-fad0-4150-94c9-eb62a917ecd9",
   "metadata": {},
   "outputs": [
    {
     "data": {
      "image/png": "[encoded data removed]",
      "text/plain": [
       "<Figure size 800x200 with 4 Axes>"
      ]
     },
     "metadata": {},
     "output_type": "display_data"
    }
   ],
   "source": [
    "# we can use the dataset hosted on PennyLane\n",
    "[pm] = qml.data.load('other', name='plus-minus')\n",
    "\n",
    "X_train = pm.img_train  # shape (1000,16,16)\n",
    "X_test = pm.img_test  # shape (200,16,16)\n",
    "Y_train = pm.labels_train  # shape (1000,)\n",
    "Y_test = pm.labels_test  # shape (200,)\n",
    "\n",
    "# show one image from each class (in the train- and testsets, the images are randomly permuted)\n",
    "x_vis = [\n",
    "    (X_train[Y_train == 0])[0],\n",
    "    (X_train[Y_train == 1])[0],\n",
    "    (X_train[Y_train == 2])[0],\n",
    "    (X_train[Y_train == 3])[0],\n",
    "]\n",
    "y_vis = [0, 1, 2, 3]\n",
    "\n",
    "\n",
    "# later when we train the model we include the predictions as well, so let's just add the functionality here\n",
    "def visualize_data(x, y, pred=None):\n",
    "    n_img = len(x)\n",
    "    labels_list = [\"\\u2212\", \"\\u002b\", \"\\ua714\", \"\\u02e7\"]\n",
    "    fig, axes = plt.subplots(1, 4, figsize=(8, 2))\n",
    "    for i in range(n_img):\n",
    "        axes[i].imshow(x[i], cmap=\"gray\")\n",
    "        if pred is None:\n",
    "            axes[i].set_title(\"Label: {}\".format(labels_list[y[i]]))\n",
    "        else:\n",
    "            axes[i].set_title(\"Label: {}, Pred: {}\".format(labels_list[y[i]], labels_list[pred[i]]))\n",
    "    plt.tight_layout(w_pad=2)\n",
    "    # plt.show()\n",
    "\n",
    "\n",
    "visualize_data(x_vis, y_vis)"
   ]
  },
  {
   "cell_type": "markdown",
   "id": "72871d06-d654-4128-8be6-6187e05452c1",
   "metadata": {},
   "source": [
    "## QML classification"
   ]
  },
  {
   "cell_type": "code",
   "execution_count": 3,
   "id": "0c696ee7-cdca-4ca5-b73c-da894f34f035",
   "metadata": {},
   "outputs": [
    {
     "name": "stdout",
     "output_type": "stream",
     "text": [
      "Using device: cpu\n"
     ]
    }
   ],
   "source": [
    "# build circuit\n",
    "#### Hyperparameters ####\n",
    "input_dim = 256\n",
    "num_classes = 4\n",
    "num_layers = 32\n",
    "num_qubits = 8\n",
    "num_reup = 3\n",
    "\n",
    "device = torch.device(\"cuda\" if torch.cuda.is_available() else \"cpu\")\n",
    "print(\"Using device:\", device)\n",
    "\n",
    "\n",
    "class QML_classifier(torch.nn.Module):\n",
    "    \"\"\"\n",
    "    Class for creating a quantum machine learning (classification) model based on the StronglyEntanglingLayers template.\n",
    "\n",
    "    Args:\n",
    "        input_dim: the dimension of the input samples\n",
    "        output_dim: the dimension of the output, i.e. the numbers of classes\n",
    "        num_qubits: the number of qubits in the circuit\n",
    "        num_layers: the number of layers within the StronglyEntanglingLayers template\n",
    "    \"\"\"\n",
    "    def __init__(self, input_dim, output_dim, num_qubits, num_layers):\n",
    "        super().__init__()\n",
    "        torch.manual_seed(1337)  # fixed seed for reproducibility\n",
    "        self.num_qubits = num_qubits\n",
    "        self.output_dim = output_dim\n",
    "        self.num_layers = num_layers\n",
    "        self.device = qml.device(\"lightning.qubit\", wires=self.num_qubits)\n",
    "        self.weights_shape = qml.StronglyEntanglingLayers.shape(\n",
    "            n_layers=self.num_layers, n_wires=self.num_qubits\n",
    "        )\n",
    "\n",
    "        @qml.qnode(self.device)\n",
    "        def circuit(inputs, weights, bias):\n",
    "            inputs = torch.reshape(inputs, self.weights_shape)\n",
    "            qml.StronglyEntanglingLayers(\n",
    "                weights=weights * inputs + bias, wires=range(self.num_qubits)\n",
    "            )\n",
    "            return [qml.expval(qml.PauliZ(i)) for i in range(self.output_dim)]\n",
    "\n",
    "        param_shapes = {\"weights\": self.weights_shape, \"bias\": self.weights_shape}\n",
    "        init_vals = {\n",
    "            \"weights\": 0.1 * torch.rand(self.weights_shape),\n",
    "            \"bias\": 0.1 * torch.rand(self.weights_shape),\n",
    "        }\n",
    "\n",
    "        # initialize the quantum circuit\n",
    "        self.qcircuit = qml.qnn.TorchLayer(\n",
    "            qnode=circuit, weight_shapes=param_shapes, init_method=init_vals\n",
    "        )\n",
    "\n",
    "    def forward(self, x):\n",
    "        inputs_stack = torch.hstack([x] * num_reup)\n",
    "        return self.qcircuit(inputs_stack)"
   ]
  },
  {
   "cell_type": "code",
   "execution_count": 4,
   "id": "3ca795d7-cf83-44d6-bda9-c71824d4cf06",
   "metadata": {},
   "outputs": [
    {
     "name": "stdout",
     "output_type": "stream",
     "text": [
      "Starting training loop for quantum variational classifier (8 qubits, 32 layers)...\n",
      "Epoch 0/4 | Approx Cost (train): 1.3883215 | Cost (val): 1.3875421 | Approx Acc train: 0.1600000 | Acc val: 0.1200000\n",
      "Epoch 1/4 | Approx Cost (train): 1.2474121 | Cost (val): 1.2367991 | Approx Acc train: 0.8200000 | Acc val: 0.8800000\n",
      "Epoch 2/4 | Approx Cost (train): 1.1586236 | Cost (val): 1.1770440 | Approx Acc train: 0.9800000 | Acc val: 0.9600000\n",
      "Epoch 3/4 | Approx Cost (train): 1.0625679 | Cost (val): 1.0833577 | Approx Acc train: 0.9600000 | Acc val: 0.9800000\n",
      "Epoch 4/4 | Approx Cost (train): 1.0000771 | Cost (val): 1.0048925 | Approx Acc train: 1.0000000 | Acc val: 0.9800000\n"
     ]
    }
   ],
   "source": [
    "# train classifier\n",
    "#### Hyperparameters ####\n",
    "learning_rate = 0.1\n",
    "epochs = 4\n",
    "batch_size = 20\n",
    "\n",
    "# we use a subset of the training and validation data for this tutorial to speed up the training\n",
    "feats_train = torch.from_numpy(X_train[:200]).reshape(200, -1).to(device)\n",
    "feats_test = torch.from_numpy(X_test[:50]).reshape(50, -1).to(device)\n",
    "labels_train = torch.from_numpy(Y_train[:200]).to(device)\n",
    "labels_test = torch.from_numpy(Y_test[:50]).to(device)\n",
    "num_train = feats_train.shape[0]\n",
    "\n",
    "# initialize the model, loss function and optimization algorithm (Adam optimizer)\n",
    "qml_model = QML_classifier(input_dim, num_classes, num_qubits, num_layers)\n",
    "loss = torch.nn.CrossEntropyLoss()\n",
    "optimizer = torch.optim.Adam(qml_model.parameters(), lr=learning_rate)\n",
    "num_batches = feats_train.shape[0] // batch_size\n",
    "\n",
    "\n",
    "# set up a measure for performance\n",
    "def accuracy(labels, predictions):\n",
    "    acc = 0\n",
    "    for l, p in zip(labels, predictions):\n",
    "        if torch.argmax(p) == l:\n",
    "            acc += 1\n",
    "    acc = acc / len(labels)\n",
    "    return acc\n",
    "\n",
    "\n",
    "# generate randomly permutated batches to speed up training\n",
    "def gen_batches(num_samples, num_batches):\n",
    "    assert num_samples % num_batches == 0\n",
    "    perm_ind = torch.reshape(torch.randperm(num_samples), (num_batches, -1))\n",
    "    return perm_ind\n",
    "\n",
    "\n",
    "# display accuracy and loss after each epoch (to speed up runtime, only do this for first 100 samples)\n",
    "def print_acc(epoch, max_ep=4):\n",
    "    predictions_train = [qml_model(f) for f in feats_train[:50]]\n",
    "    predictions_test = [qml_model(f) for f in feats_test]\n",
    "    cost_approx_train = loss(torch.stack(predictions_train), labels_train[:50])\n",
    "    cost_approx_test = loss(torch.stack(predictions_test), labels_test)\n",
    "    acc_approx_train = accuracy(labels_train[:50], predictions_train)\n",
    "    acc_approx_test = accuracy(labels_test, predictions_test)\n",
    "    print(\n",
    "        f\"Epoch {epoch}/{max_ep} | Approx Cost (train): {cost_approx_train:0.7f} | Cost (val): {cost_approx_test:0.7f} |\"\n",
    "        f\" Approx Acc train: {acc_approx_train:0.7f} | Acc val: {acc_approx_test:0.7f}\"\n",
    "    )\n",
    "\n",
    "\n",
    "print(\n",
    "    f\"Starting training loop for quantum variational classifier ({num_qubits} qubits, {num_layers} layers)...\"\n",
    ")\n",
    "\n",
    "# optimize over model parameters for given number of epochs\n",
    "for ep in range(0, epochs):\n",
    "    batch_ind = gen_batches(num_train, num_batches)\n",
    "    print_acc(epoch=ep)\n",
    "\n",
    "    for it in range(num_batches):\n",
    "        optimizer.zero_grad()\n",
    "        feats_train_batch = feats_train[batch_ind[it]]\n",
    "        labels_train_batch = labels_train[batch_ind[it]]\n",
    "\n",
    "        outputs = [qml_model(f) for f in feats_train_batch]\n",
    "        batch_loss = loss(torch.stack(outputs), labels_train_batch)\n",
    "        # if REG:\n",
    "        #    loss = loss + lipschitz_regularizer(regularization_rate, model.qcircuit.weights)\n",
    "        batch_loss.backward()\n",
    "        optimizer.step()\n",
    "\n",
    "print_acc(epochs)"
   ]
  },
  {
   "cell_type": "code",
   "execution_count": 5,
   "id": "8e95f4ff-9c97-4816-a881-37105b21a005",
   "metadata": {},
   "outputs": [
    {
     "data": {
      "image/png": "[encoded data removed]",
      "text/plain": [
       "<Figure size 800x200 with 4 Axes>"
      ]
     },
     "metadata": {},
     "output_type": "display_data"
    }
   ],
   "source": [
    "# evaluate benign data\n",
    "# show accuracy\n",
    "x_vis_torch = torch.from_numpy(np.array(x_vis).reshape(4, -1))\n",
    "y_vis_torch = torch.from_numpy(np.array(y_vis))\n",
    "benign_preds = [qml_model(f) for f in x_vis_torch]\n",
    "\n",
    "benign_class_output = [torch.argmax(p) for p in benign_preds]\n",
    "visualize_data(x_vis, y_vis, benign_class_output)"
   ]
  },
  {
   "cell_type": "markdown",
   "id": "443f2c03-c8b6-498c-ad28-debb0e0a3c7a",
   "metadata": {},
   "source": [
    "## now attack"
   ]
  },
  {
   "cell_type": "code",
   "execution_count": 6,
   "id": "2012ddd6-68e8-46ff-95bc-15f234d37c7d",
   "metadata": {},
   "outputs": [],
   "source": [
    "# create PGD\n",
    "# simple implementation of projected gradient descent (PGD) attack (without randomized starting points — cf. BIM)\n",
    "# for an introduction to PGD, see https://adversarial-ml-tutorial.org/adversarial_examples/#projected-gradient-descent\n",
    "def PGD(model, feats, labels, epsilon=0.1, alpha=0.01, num_iter=10):\n",
    "\n",
    "    # initialize image perturbations with zero\n",
    "    delta = torch.zeros_like(feats, requires_grad=True)\n",
    "    for t in range(num_iter):\n",
    "        feats_adv = feats + delta\n",
    "        outputs = [model(f) for f in feats_adv]\n",
    "\n",
    "        # forward & backward pass through the model, accumulating gradients\n",
    "        l = loss(torch.stack(outputs), labels)\n",
    "        l.backward()\n",
    "\n",
    "        # use gradients with respect to inputs and clip the results to lie within the epsilon boundary\n",
    "        delta.data = (delta + alpha * delta.grad.detach().sign()).clamp(-epsilon, epsilon)\n",
    "        delta.grad.zero_()\n",
    "    return delta.detach()"
   ]
  },
  {
   "cell_type": "code",
   "execution_count": 7,
   "id": "3c374822-9a26-44c3-9285-27c0231eabc4",
   "metadata": {},
   "outputs": [
    {
     "data": {
      "image/png": "[encoded data removed]",
      "text/plain": [
       "<Figure size 800x200 with 4 Axes>"
      ]
     },
     "metadata": {},
     "output_type": "display_data"
    }
   ],
   "source": [
    "# evaluate - model under attack\n",
    "perturbations = PGD(model=qml_model, feats=x_vis_torch, labels=y_vis_torch, epsilon=0.1)\n",
    "perturbed_x = x_vis_torch + perturbations\n",
    "\n",
    "# check model performance\n",
    "adversarial_preds = [qml_model(f) for f in perturbed_x]\n",
    "adversarial_class_output = [torch.argmax(p) for p in adversarial_preds]\n",
    "\n",
    "visualize_data(perturbed_x.reshape(-1, 16, 16), y_vis, adversarial_class_output)"
   ]
  },
  {
   "cell_type": "markdown",
   "id": "224dd724-64db-4b12-b32d-7038b1871018",
   "metadata": {},
   "source": [
    "## increase robustness of model"
   ]
  },
  {
   "cell_type": "code",
   "execution_count": 8,
   "id": "d5f38f1a-6ea0-42b0-b429-2ad5612e2d17",
   "metadata": {},
   "outputs": [
    {
     "name": "stdout",
     "output_type": "stream",
     "text": [
      "Epoch 0/2 | Approx Cost (train): 1.0000771 | Cost (val): 1.0048925 | Approx Acc train: 1.0000000 | Acc val: 0.9800000\n",
      "Epoch 1/2 | Approx Cost (train): 0.9361414 | Cost (val): 0.9478188 | Approx Acc train: 0.9600000 | Acc val: 0.9600000\n",
      "Epoch 2/2 | Approx Cost (train): 0.9086213 | Cost (val): 0.9238126 | Approx Acc train: 0.9800000 | Acc val: 0.9600000\n"
     ]
    }
   ],
   "source": [
    "# new training\n",
    "adv_dataset = (\n",
    "    PGD(model=qml_model, feats=feats_train[:20], labels=labels_train[:20], epsilon=0.1)\n",
    "    + feats_train[:20]\n",
    ")\n",
    "\n",
    "feats_retrain = torch.cat((feats_train, adv_dataset))\n",
    "labels_retrain = torch.cat((labels_train, labels_train[:20]))\n",
    "epochs_retraining = 2\n",
    "\n",
    "for ep in range(0, epochs_retraining):\n",
    "    batch_ind = gen_batches(num_train, num_batches)\n",
    "    print_acc(epoch=ep, max_ep=2)\n",
    "\n",
    "    for it in range(num_batches):\n",
    "        optimizer.zero_grad()\n",
    "        feats_train_batch = feats_retrain[batch_ind[it]]\n",
    "        labels_train_batch = labels_retrain[batch_ind[it]]\n",
    "\n",
    "        outputs = [qml_model(f) for f in feats_train_batch]\n",
    "        batch_loss = loss(torch.stack(outputs), labels_train_batch)\n",
    "        # if REG:\n",
    "        #    loss = loss + lipschitz_regularizer(regularization_rate, model.qcircuit.weights)\n",
    "        batch_loss.backward()\n",
    "        optimizer.step()\n",
    "\n",
    "print_acc(epochs_retraining, max_ep=2)"
   ]
  },
  {
   "cell_type": "code",
   "execution_count": 9,
   "id": "358f193b-6642-42c5-a73d-2ab03e63c74d",
   "metadata": {},
   "outputs": [
    {
     "data": {
      "image/png": "[encoded data removed]",
      "text/plain": [
       "<Figure size 800x200 with 4 Axes>"
      ]
     },
     "metadata": {},
     "output_type": "display_data"
    }
   ],
   "source": [
    "# evaluate - robustness\n",
    "adversarial_preds = [qml_model(f) for f in perturbed_x]\n",
    "adversarial_class_output = [torch.argmax(p) for p in adversarial_preds]\n",
    "\n",
    "visualize_data(perturbed_x.reshape(-1, 16, 16), y_vis, adversarial_class_output)"
   ]
  },
  {
   "cell_type": "code",
   "execution_count": null,
   "id": "c1a3da42-8886-4b93-9335-e0a13cd818d6",
   "metadata": {},
   "outputs": [],
   "source": []
  }
 ],
 "metadata": {
  "kernelspec": {
   "display_name": "Python 3 (ipykernel)",
   "language": "python",
   "name": "python3"
  },
  "language_info": {
   "codemirror_mode": {
    "name": "ipython",
    "version": 3
   },
   "file_extension": ".py",
   "mimetype": "text/x-python",
   "name": "python",
   "nbconvert_exporter": "python",
   "pygments_lexer": "ipython3",
   "version": "3.10.12"
  }
 },
 "nbformat": 4,
 "nbformat_minor": 5
}
