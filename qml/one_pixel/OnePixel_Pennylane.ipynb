{
 "cells": [
  {
   "cell_type": "markdown",
   "id": "8c300330-944a-4b37-a39a-2606e5f12a5d",
   "metadata": {},
   "source": [
    "# Proof of concept for one pixel attacks in qml\n",
    "- some code parts taken from:\n",
    "  - https://discuss.pennylane.ai/t/quantum-machine-learning-in-feature-hilbert-spaces/374/13\n",
    "  - https://pennylane.ai/qml/demos/tutorial_How_to_optimize_QML_model_using_JAX_and_JAXopt\n",
    "  - https://docs.pennylane.ai/en/stable/code/api/pennylane.AmplitudeEmbedding.html\n",
    "  - https://pennylane.ai/blog/2021/10/how-to-start-learning-quantum-machine-learning\n",
    "  - https://suyongeum.com/B5G6G/info/QSVM-Kernel-method-sample.html"
   ]
  },
  {
   "cell_type": "code",
   "execution_count": 1,
   "id": "c7320a33-2d38-4166-be4e-556f163bc2de",
   "metadata": {},
   "outputs": [],
   "source": [
    "#imports\n",
    "from sklearn.datasets import load_digits       # Loading MNIST data using the function \"load_digits\" provided by sklearn package\n",
    "import numpy as np                             # To use \"SVD\" function provided by numpy module\n",
    "import matplotlib.pylab as plt                 # Matplot is a library to plot a graph\n",
    "\n",
    "from sklearn.model_selection import train_test_split\n",
    "\n",
    "import pennylane as qml\n",
    "from pennylane import numpy as np\n",
    "import torch"
   ]
  },
  {
   "cell_type": "markdown",
   "id": "0ea74332-83b2-4c66-bfc4-2b61ecb049fa",
   "metadata": {},
   "source": [
    "## Read in MNIST"
   ]
  },
  {
   "cell_type": "code",
   "execution_count": 2,
   "id": "0e759d9b-6768-4ddc-b4cc-93742180b528",
   "metadata": {},
   "outputs": [],
   "source": [
    "digits = load_digits()                         # Loading MNIST data: each digit has 8 by 8 dimension\n",
    "data, label = digits.data, digits.target "
   ]
  },
  {
   "cell_type": "markdown",
   "id": "788f6162-f0c4-4dbf-b772-d61ee273f907",
   "metadata": {},
   "source": [
    "## Only process for two labels (0,1)"
   ]
  },
  {
   "cell_type": "code",
   "execution_count": 3,
   "id": "9abf7f70-9bb1-4d17-8d22-32c475026197",
   "metadata": {},
   "outputs": [
    {
     "name": "stdout",
     "output_type": "stream",
     "text": [
      "# of each data 0 is 177.\n",
      "# of each data 1 is 181.\n"
     ]
    }
   ],
   "source": [
    "data_0 = [[item] for item, l in zip(data, label) if l == 0][0:-1]\n",
    "data_1  = [[item] for item, l in zip(data, label) if l == 1][0:-1]\n",
    "train_features = np.array(data_0 + data_1)\n",
    "train_labels   = np.array([0.]*len(data_0) + [1.]*len(data_1))\n",
    "print(f\"# of each data 0 is {len(data_0)}.\")\n",
    "print(f\"# of each data 1 is {len(data_1)}.\")"
   ]
  },
  {
   "cell_type": "markdown",
   "id": "1b34d400-6df3-42f5-92aa-0b13d6816cf1",
   "metadata": {},
   "source": [
    "## prepare data for amplitude encoding -> only 6 qubits needed"
   ]
  },
  {
   "cell_type": "code",
   "execution_count": 4,
   "id": "df0c20cd-bd0b-46d2-ac99-ce667fdb6bae",
   "metadata": {},
   "outputs": [],
   "source": [
    "train_features_converted = []\n",
    "for feature in train_features:\n",
    "    sum = np.sum(feature)\n",
    "    train_features_converted.append(feature/sum)\n",
    "\n",
    "train_features_converted = np.array(train_features_converted)"
   ]
  },
  {
   "cell_type": "code",
   "execution_count": 5,
   "id": "10d6f591-20fd-44f0-b004-d26e13988ddb",
   "metadata": {},
   "outputs": [
    {
     "name": "stdout",
     "output_type": "stream",
     "text": [
      "train_features: (358, 1, 64) \n",
      "train_features_converted: (358, 1, 64) \n",
      "train_labels: (358,) \n"
     ]
    }
   ],
   "source": [
    "print(f\"train_features: {train_features.shape} \")\n",
    "print(f\"train_features_converted: {train_features_converted.shape} \")\n",
    "print(f\"train_labels: {train_labels.shape} \")"
   ]
  },
  {
   "cell_type": "code",
   "execution_count": 6,
   "id": "bce2eea2-61ed-4fb1-a8e5-e06a979571d8",
   "metadata": {},
   "outputs": [
    {
     "data": {
      "text/plain": [
       "tensor([0., 0., 0., 0., 0., 0., 0., 0., 0., 0., 0., 0., 0., 0., 0., 0.,\n",
       "        0., 0., 0., 0., 0., 0., 0., 0., 0., 0., 0., 0., 0., 0., 0., 0.,\n",
       "        0., 0., 0., 0., 0., 0., 0., 0., 0., 0., 0., 0., 0., 0., 0., 0.,\n",
       "        0., 0., 0., 0., 0., 0., 0., 0., 0., 0., 0., 0., 0., 0., 0., 0.,\n",
       "        0., 0., 0., 0., 0., 0., 0., 0., 0., 0., 0., 0., 0., 0., 0., 0.,\n",
       "        0., 0., 0., 0., 0., 0., 0., 0., 0., 0., 0., 0., 0., 0., 0., 0.,\n",
       "        0., 0., 0., 0., 0., 0., 0., 0., 0., 0., 0., 0., 0., 0., 0., 0.,\n",
       "        0., 0., 0., 0., 0., 0., 0., 0., 0., 0., 0., 0., 0., 0., 0., 0.,\n",
       "        0., 0., 0., 0., 0., 0., 0., 0., 0., 0., 0., 0., 0., 0., 0., 0.,\n",
       "        0., 0., 0., 0., 0., 0., 0., 0., 0., 0., 0., 0., 0., 0., 0., 0.,\n",
       "        0., 0., 0., 0., 0., 0., 0., 0., 0., 0., 0., 0., 0., 0., 0., 0.,\n",
       "        0., 1., 1., 1., 1., 1., 1., 1., 1., 1., 1., 1., 1., 1., 1., 1.,\n",
       "        1., 1., 1., 1., 1., 1., 1., 1., 1., 1., 1., 1., 1., 1., 1., 1.,\n",
       "        1., 1., 1., 1., 1., 1., 1., 1., 1., 1., 1., 1., 1., 1., 1., 1.,\n",
       "        1., 1., 1., 1., 1., 1., 1., 1., 1., 1., 1., 1., 1., 1., 1., 1.,\n",
       "        1., 1., 1., 1., 1., 1., 1., 1., 1., 1., 1., 1., 1., 1., 1., 1.,\n",
       "        1., 1., 1., 1., 1., 1., 1., 1., 1., 1., 1., 1., 1., 1., 1., 1.,\n",
       "        1., 1., 1., 1., 1., 1., 1., 1., 1., 1., 1., 1., 1., 1., 1., 1.,\n",
       "        1., 1., 1., 1., 1., 1., 1., 1., 1., 1., 1., 1., 1., 1., 1., 1.,\n",
       "        1., 1., 1., 1., 1., 1., 1., 1., 1., 1., 1., 1., 1., 1., 1., 1.,\n",
       "        1., 1., 1., 1., 1., 1., 1., 1., 1., 1., 1., 1., 1., 1., 1., 1.,\n",
       "        1., 1., 1., 1., 1., 1., 1., 1., 1., 1., 1., 1., 1., 1., 1., 1.,\n",
       "        1., 1., 1., 1., 1., 1.], requires_grad=True)"
      ]
     },
     "execution_count": 6,
     "metadata": {},
     "output_type": "execute_result"
    }
   ],
   "source": [
    "train_labels"
   ]
  },
  {
   "cell_type": "code",
   "execution_count": 7,
   "id": "842d05ce-ce09-49bd-85dc-93f775102105",
   "metadata": {},
   "outputs": [
    {
     "data": {
      "text/plain": [
       "tensor([[[0.        , 0.        , 0.0170068 , ..., 0.        ,\n",
       "          0.        , 0.        ]],\n",
       "\n",
       "        [[0.        , 0.        , 0.00310559, ..., 0.00931677,\n",
       "          0.        , 0.        ]],\n",
       "\n",
       "        [[0.        , 0.        , 0.00890208, ..., 0.01186944,\n",
       "          0.        , 0.        ]],\n",
       "\n",
       "        ...,\n",
       "\n",
       "        [[0.        , 0.        , 0.0106383 , ..., 0.00531915,\n",
       "          0.        , 0.        ]],\n",
       "\n",
       "        [[0.        , 0.        , 0.00286533, ..., 0.0286533 ,\n",
       "          0.        , 0.        ]],\n",
       "\n",
       "        [[0.        , 0.        , 0.01909308, ..., 0.01670644,\n",
       "          0.        , 0.        ]]], requires_grad=True)"
      ]
     },
     "execution_count": 7,
     "metadata": {},
     "output_type": "execute_result"
    }
   ],
   "source": [
    "train_features_converted"
   ]
  },
  {
   "cell_type": "markdown",
   "id": "712cd1f3-ab6b-4425-be8c-a4060fca4521",
   "metadata": {},
   "source": [
    "## split in train and test set"
   ]
  },
  {
   "cell_type": "code",
   "execution_count": 8,
   "id": "4c0876c0-4974-46ce-904a-246de00e3a93",
   "metadata": {},
   "outputs": [],
   "source": [
    "# split dataset into train and test\n",
    "X_train, X_test, Y_train, Y_test = train_test_split(\n",
    "    train_features_converted, train_labels, train_size=0.8, random_state=42\n",
    ")"
   ]
  },
  {
   "cell_type": "markdown",
   "id": "3fd9e606-0840-46df-a942-9a827b0fdfe9",
   "metadata": {},
   "source": [
    "## Define and train our model"
   ]
  },
  {
   "cell_type": "code",
   "execution_count": 9,
   "id": "933db203-ccc8-4a61-9197-6e59324666f8",
   "metadata": {},
   "outputs": [],
   "source": [
    "# Construct variational circuit\n",
    "n_wires = 6\n",
    "\n",
    "dev = qml.device(\"default.qubit\", wires=n_wires)\n",
    "@qml.qnode(dev)\n",
    "def circuit(weights, x):\n",
    "    # data embedding\n",
    "    qml.AmplitudeEmbedding(features=x, wires=range(n_wires), normalize=True)\n",
    "    #trainable ansatz\n",
    "    for i in range(n_wires):\n",
    "        qml.RX(weights[i, 0], wires=i)\n",
    "        qml.RY(weights[i, 1], wires=i)\n",
    "        qml.RX(weights[i, 2], wires=i)\n",
    "        qml.CNOT(wires=[i, (i + 1)% n_wires])\n",
    "        \n",
    "    return qml.expval(qml.sum(*[qml.PauliZ(i) for i in range(n_wires)]))\n",
    "\n",
    "def my_model(weights, bias, x):\n",
    "    return circuit(weights, x) + bias"
   ]
  },
  {
   "cell_type": "code",
   "execution_count": 10,
   "id": "0507a6c9-6ab7-42f2-814a-e22a81a62912",
   "metadata": {},
   "outputs": [],
   "source": [
    "def square_loss(labels, predictions):\n",
    "    # We use a call to qml.math.stack to allow subtracting the arrays directly\n",
    "    return np.mean((labels - qml.math.stack(predictions)) ** 2)"
   ]
  },
  {
   "cell_type": "code",
   "execution_count": 11,
   "id": "6191d3fb-d5cf-4376-807e-494b67c358e7",
   "metadata": {},
   "outputs": [],
   "source": [
    "def accuracy(labels, predictions):\n",
    "    acc = np.sum(np.abs(l - p) < 1e-5 for l, p in zip(labels, qml.math.stack(predictions)))\n",
    "    acc = acc / len(labels)\n",
    "    return acc"
   ]
  },
  {
   "cell_type": "code",
   "execution_count": 12,
   "id": "1cc8b5e4-82fc-47d8-a350-3aa385d38b23",
   "metadata": {},
   "outputs": [],
   "source": [
    "def cost(weights, bias, X, Y):\n",
    "    predictions = [my_model(weights, bias, x[0]) for x in X]\n",
    "    return square_loss(Y, predictions)"
   ]
  },
  {
   "cell_type": "code",
   "execution_count": 13,
   "id": "32f8795c-662f-4069-a993-539e4a5772f6",
   "metadata": {},
   "outputs": [],
   "source": [
    "# initialize parameters\n",
    "weights = np.ones([n_wires, 3], requires_grad=True)\n",
    "bias = np.array(0.0, requires_grad=True)"
   ]
  },
  {
   "cell_type": "code",
   "execution_count": 14,
   "id": "6023d6e6-13e0-441d-8571-2deeae7c587c",
   "metadata": {},
   "outputs": [],
   "source": [
    "opt = qml.GradientDescentOptimizer(stepsize = 0.3)"
   ]
  },
  {
   "cell_type": "code",
   "execution_count": 15,
   "id": "985e6b4b-047c-4f10-9a9c-c0ad1a2d0233",
   "metadata": {},
   "outputs": [],
   "source": [
    "costs = []"
   ]
  },
  {
   "cell_type": "code",
   "execution_count": 16,
   "id": "e9fd4690-61d2-4c0d-85cf-b803f602677a",
   "metadata": {},
   "outputs": [
    {
     "name": "stdout",
     "output_type": "stream",
     "text": [
      "Step = 0 Costs = 0.36569848539619554\n",
      "Step = 10 Costs = 0.20641809867051855\n",
      "Step = 20 Costs = 0.13158109329034154\n",
      "Step = 30 Costs = 0.08765671138053638\n",
      "Step = 40 Costs = 0.06795264935979528\n",
      "Step = 50 Costs = 0.05658087046847368\n",
      "Step = 60 Costs = 0.048624551240819346\n",
      "Step = 70 Costs = 0.042930039956875776\n",
      "Step = 80 Costs = 0.038874042078203955\n",
      "Step = 90 Costs = 0.03595463978549054\n",
      "Step = 100 Costs = 0.033800397118089964\n",
      "Step = 110 Costs = 0.032158797109841895\n",
      "Step = 120 Costs = 0.03086439682724203\n",
      "Step = 130 Costs = 0.029809609448021652\n",
      "Step = 140 Costs = 0.028923922306088076\n",
      "Step = 150 Costs = 0.028160416103450953\n",
      "Step = 160 Costs = 0.02748730703857024\n",
      "Step = 170 Costs = 0.026882676798415946\n",
      "Step = 180 Costs = 0.026331167410061758\n",
      "Step = 190 Costs = 0.025821879351944584\n"
     ]
    }
   ],
   "source": [
    "for i in range(200):\n",
    "    weights, bias = opt.step(cost, weights, bias, X=X_train, Y=Y_train)\n",
    "    if i%10 == 0:\n",
    "        cur_cost = cost(weights, bias, X_train, Y_train)\n",
    "        print(f\"Step = {i} Costs = {cur_cost}\")\n",
    "        costs.append(cur_cost)"
   ]
  },
  {
   "cell_type": "code",
   "execution_count": 17,
   "id": "30387bbe-d21e-4d18-9ed7-68dfdfe79782",
   "metadata": {},
   "outputs": [
    {
     "data": {
      "image/png": "[encoded data removed]",
      "text/plain": [
       "<Figure size 640x480 with 1 Axes>"
      ]
     },
     "metadata": {},
     "output_type": "display_data"
    }
   ],
   "source": [
    "fig = plt.figure()\n",
    "ax1 = fig.add_subplot(111)\n",
    "ax1.plot(range(0,200,10), costs)\n",
    "ax1.set(xlabel='Epochs', ylabel='Cost', title='Convergence plot')\n",
    "plt.show()"
   ]
  },
  {
   "cell_type": "markdown",
   "id": "6264f274-f41f-4bb9-a9d3-1672a1d5740a",
   "metadata": {},
   "source": [
    "## Result of our model"
   ]
  },
  {
   "cell_type": "code",
   "execution_count": 18,
   "id": "657983eb-a37e-4d84-987e-356436f68ece",
   "metadata": {},
   "outputs": [],
   "source": [
    "test_predictions = [my_model(weights, bias, x[0]) for x in X_test]"
   ]
  },
  {
   "cell_type": "code",
   "execution_count": 19,
   "id": "f226a23c-043c-43ac-9067-a9c061f53617",
   "metadata": {},
   "outputs": [
    {
     "name": "stdout",
     "output_type": "stream",
     "text": [
      "[1. 0. 1. 1. 0. 1. 0. 0. 1. 0. 0. 1. 1. 1. 0. 0. 1. 0. 0. 1. 0. 1. 1. 0.\n",
      " 1. 1. 0. 1. 0. 0. 1. 0. 1. 0. 0. 0. 0. 1. 0. 0. 1. 0. 1. 0. 0. 1. 0. 0.\n",
      " 0. 1. 1. 1. 1. 0. 1. 1. 0. 0. 0. 1. 0. 0. 1. 0. 0. 0. 1. 1. 1. 0. 1. 1.]\n",
      "[tensor(1.08455005, requires_grad=True), tensor(0.1337784, requires_grad=True), tensor(1.02770188, requires_grad=True), tensor(1.1232855, requires_grad=True), tensor(0.01957066, requires_grad=True), tensor(0.8089205, requires_grad=True), tensor(0.06156124, requires_grad=True), tensor(0.16178589, requires_grad=True), tensor(1.2194741, requires_grad=True), tensor(0.26098276, requires_grad=True), tensor(-0.00633896, requires_grad=True), tensor(1.27602718, requires_grad=True), tensor(1.04762001, requires_grad=True), tensor(0.79050323, requires_grad=True), tensor(0.15895313, requires_grad=True), tensor(0.08035272, requires_grad=True), tensor(1.01551089, requires_grad=True), tensor(0.2460265, requires_grad=True), tensor(0.24789256, requires_grad=True), tensor(1.09742318, requires_grad=True), tensor(0.12101757, requires_grad=True), tensor(0.79178794, requires_grad=True), tensor(1.06705488, requires_grad=True), tensor(0.00921917, requires_grad=True), tensor(1.28917624, requires_grad=True), tensor(1.0325907, requires_grad=True), tensor(-0.09647839, requires_grad=True), tensor(0.8645232, requires_grad=True), tensor(0.04853664, requires_grad=True), tensor(0.23297435, requires_grad=True), tensor(1.07947099, requires_grad=True), tensor(-0.09848996, requires_grad=True), tensor(1.28555941, requires_grad=True), tensor(0.03898618, requires_grad=True), tensor(-0.02766261, requires_grad=True), tensor(0.0153846, requires_grad=True), tensor(0.15598799, requires_grad=True), tensor(0.96808097, requires_grad=True), tensor(-0.01963323, requires_grad=True), tensor(-0.0602704, requires_grad=True), tensor(0.96360079, requires_grad=True), tensor(-0.01183466, requires_grad=True), tensor(0.92011114, requires_grad=True), tensor(0.02279889, requires_grad=True), tensor(0.03811385, requires_grad=True), tensor(0.89680713, requires_grad=True), tensor(0.11540549, requires_grad=True), tensor(-0.15537636, requires_grad=True), tensor(0.05243872, requires_grad=True), tensor(1.02260838, requires_grad=True), tensor(0.9448471, requires_grad=True), tensor(1.15428275, requires_grad=True), tensor(0.88939291, requires_grad=True), tensor(-0.00912456, requires_grad=True), tensor(0.85016065, requires_grad=True), tensor(1.09099831, requires_grad=True), tensor(-0.09518487, requires_grad=True), tensor(-0.01258563, requires_grad=True), tensor(0.11225542, requires_grad=True), tensor(0.62730195, requires_grad=True), tensor(0.36595263, requires_grad=True), tensor(0.059176, requires_grad=True), tensor(1.14177293, requires_grad=True), tensor(0.2128156, requires_grad=True), tensor(0.43830958, requires_grad=True), tensor(0.10455287, requires_grad=True), tensor(0.86482265, requires_grad=True), tensor(0.87474371, requires_grad=True), tensor(1.05601448, requires_grad=True), tensor(0.0266028, requires_grad=True), tensor(0.860822, requires_grad=True), tensor(0.79036222, requires_grad=True)]\n"
     ]
    }
   ],
   "source": [
    "print(Y_test)\n",
    "print(test_predictions)"
   ]
  },
  {
   "cell_type": "code",
   "execution_count": 20,
   "id": "a3845a1f-bb49-4296-aa9f-71f8bf610803",
   "metadata": {},
   "outputs": [
    {
     "name": "stdout",
     "output_type": "stream",
     "text": [
      "[ 1.  0.  1.  1.  0.  1.  0.  0.  1.  0. -0.  1.  1.  1.  0.  0.  1.  0.\n",
      "  0.  1.  0.  1.  1.  0.  1.  1. -0.  1.  0.  0.  1. -0.  1.  0. -0.  0.\n",
      "  0.  1. -0. -0.  1. -0.  1.  0.  0.  1.  0. -0.  0.  1.  1.  1.  1. -0.\n",
      "  1.  1. -0. -0.  0.  1.  0.  0.  1.  0.  0.  0.  1.  1.  1.  0.  1.  1.]\n"
     ]
    }
   ],
   "source": [
    "# check if model training is going well!\n",
    "test_pred_round = np.rint(test_predictions)\n",
    "print(test_pred_round)"
   ]
  },
  {
   "cell_type": "code",
   "execution_count": 21,
   "id": "73fea90f-84b3-4500-9a92-ff73a9b43dfc",
   "metadata": {},
   "outputs": [
    {
     "name": "stdout",
     "output_type": "stream",
     "text": [
      "Accuracy orig values: 0.0\n",
      "Accuracy rounded values: 1.0\n"
     ]
    }
   ],
   "source": [
    "acc_val = accuracy(Y_test, test_predictions)\n",
    "acc_val_round = accuracy(Y_test, test_pred_round)\n",
    "print(f\"Accuracy orig values: {acc_val}\")\n",
    "print(f\"Accuracy rounded values: {acc_val_round}\")"
   ]
  },
  {
   "cell_type": "markdown",
   "id": "b6ea8eaf-ada7-4c03-94a4-e68d327c5d7a",
   "metadata": {},
   "source": [
    "## Pick one image and try to attack"
   ]
  },
  {
   "cell_type": "code",
   "execution_count": 22,
   "id": "8ceb898a-c94b-40e1-bb44-d1f1e294e98a",
   "metadata": {},
   "outputs": [
    {
     "name": "stdout",
     "output_type": "stream",
     "text": [
      "Attack index: 9\n"
     ]
    }
   ],
   "source": [
    "# take one index\n",
    "attack_idx = np.random.randint(0, len(Y_test))\n",
    "print(f\"Attack index: {attack_idx}\")"
   ]
  },
  {
   "cell_type": "code",
   "execution_count": 30,
   "id": "d025c0e2-9dd0-4f79-b12e-14b084b57bcb",
   "metadata": {},
   "outputs": [
    {
     "name": "stdout",
     "output_type": "stream",
     "text": [
      "0.045283018867924525\n",
      "model output: -0.08620824372601021\n",
      "-0.0   0.0\n",
      "0.052830188679245285\n",
      "model output: -0.44780264514842105\n",
      "-0.0   0.0\n",
      "0.018867924528301886\n",
      "model output: 0.17925350718441252\n",
      "0.0   0.0\n",
      "0.007547169811320755\n",
      "model output: 0.6680319584714551\n",
      "1.0   0.0\n",
      "Attack successfull after 4 tries!\n"
     ]
    }
   ],
   "source": [
    "# now pertubate image until prediction is not correct anymore\n",
    "orig_pred = Y_test[attack_idx]\n",
    "\n",
    "attack_pred = orig_pred\n",
    "loop_cnt = 0\n",
    "\n",
    "while (attack_pred == orig_pred):\n",
    "\n",
    "    attack_img = X_test[attack_idx].copy()\n",
    "\n",
    "    pixel_idx = np.random.randint(0, len(attack_img[0]))\n",
    "    print(attack_img[0][pixel_idx])\n",
    "    \n",
    "    if (attack_img[0][pixel_idx] > 0.5):\n",
    "        attack_img[0][pixel_idx] = 0.5\n",
    "    else:\n",
    "       attack_img[0][pixel_idx] = 1.0\n",
    "\n",
    "    cur_pred = my_model(weights, bias, attack_img[0])\n",
    "    print(f\"model output: {cur_pred }\")\n",
    "    attack_pred = np.rint(cur_pred)\n",
    "    print(attack_pred, \" \", orig_pred)\n",
    "    loop_cnt = loop_cnt + 1\n",
    "\n",
    "print(f\"Attack successfull after {loop_cnt} tries!\")\n"
   ]
  },
  {
   "cell_type": "code",
   "execution_count": null,
   "id": "3c304668-5fcd-414f-a2c4-8b4617fbe54c",
   "metadata": {},
   "outputs": [],
   "source": []
  }
 ],
 "metadata": {
  "kernelspec": {
   "display_name": "Python 3 (ipykernel)",
   "language": "python",
   "name": "python3"
  },
  "language_info": {
   "codemirror_mode": {
    "name": "ipython",
    "version": 3
   },
   "file_extension": ".py",
   "mimetype": "text/x-python",
   "name": "python",
   "nbconvert_exporter": "python",
   "pygments_lexer": "ipython3",
   "version": "3.10.12"
  }
 },
 "nbformat": 4,
 "nbformat_minor": 5
}
