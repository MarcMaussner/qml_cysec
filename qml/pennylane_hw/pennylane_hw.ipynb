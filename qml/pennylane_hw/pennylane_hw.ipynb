{
 "cells": [
  {
   "cell_type": "markdown",
   "id": "82ccd3c0-0fff-4ba0-87e4-66a0789c2ec6",
   "metadata": {},
   "source": [
    "# Pennylane demo of running with noise and on hw"
   ]
  },
  {
   "cell_type": "markdown",
   "id": "b1432ca4-263b-42e9-a1bd-01e1fbf0ea5c",
   "metadata": {},
   "source": [
    "## General on default.qubit"
   ]
  },
  {
   "cell_type": "code",
   "execution_count": 1,
   "id": "87cd42cd-38d4-4a3f-9517-320815876187",
   "metadata": {},
   "outputs": [],
   "source": [
    "import pennylane as qml\n",
    "\n",
    "dev = qml.device(\"default.qubit\", shots=1024)\n",
    "\n",
    "@qml.qnode(dev)\n",
    "def ghz():\n",
    "    qml.Hadamard(0)\n",
    "    qml.CNOT(wires=[0, 1])\n",
    "    qml.CNOT(wires=[1, 2])\n",
    "\n",
    "    return qml.counts(all_outcomes=True)"
   ]
  },
  {
   "cell_type": "code",
   "execution_count": 2,
   "id": "4910fb6d-33a7-4548-b0f7-f2acdd52b39a",
   "metadata": {},
   "outputs": [
    {
     "data": {
      "text/plain": [
       "{'000': tensor(527, requires_grad=True),\n",
       " '001': tensor(0, requires_grad=True),\n",
       " '010': tensor(0, requires_grad=True),\n",
       " '011': tensor(0, requires_grad=True),\n",
       " '100': tensor(0, requires_grad=True),\n",
       " '101': tensor(0, requires_grad=True),\n",
       " '110': tensor(0, requires_grad=True),\n",
       " '111': tensor(497, requires_grad=True)}"
      ]
     },
     "execution_count": 2,
     "metadata": {},
     "output_type": "execute_result"
    }
   ],
   "source": [
    "ghz()"
   ]
  },
  {
   "cell_type": "markdown",
   "id": "3db88ba3-c8fe-431e-ba1e-0032233ddc77",
   "metadata": {},
   "source": [
    "## on default.mixed"
   ]
  },
  {
   "cell_type": "code",
   "execution_count": 3,
   "id": "132c4b59-7de2-42de-86e7-6588ef9afa14",
   "metadata": {},
   "outputs": [],
   "source": [
    "import pennylane as qml\n",
    "\n",
    "dev = qml.device(\"default.mixed\", wires=3, shots=1024)\n",
    "\n",
    "@qml.qnode(dev)\n",
    "def ghz():\n",
    "    qml.Hadamard(0)\n",
    "    qml.CNOT(wires=[0, 1])\n",
    "    qml.CNOT(wires=[1, 2])\n",
    "\n",
    "     # The noise is added here:\n",
    "    qml.DepolarizingChannel(0.01, wires=0)\n",
    "\n",
    "    return qml.counts(all_outcomes=True)"
   ]
  },
  {
   "cell_type": "code",
   "execution_count": 4,
   "id": "e49b8402-1c14-4bbe-94a9-a1e6fd93fbb8",
   "metadata": {},
   "outputs": [
    {
     "data": {
      "text/plain": [
       "{'000': 486,\n",
       " '001': 0,\n",
       " '010': 0,\n",
       " '011': 4,\n",
       " '100': 5,\n",
       " '101': 0,\n",
       " '110': 0,\n",
       " '111': 529}"
      ]
     },
     "execution_count": 4,
     "metadata": {},
     "output_type": "execute_result"
    }
   ],
   "source": [
    "ghz()"
   ]
  },
  {
   "cell_type": "markdown",
   "id": "e70a0f03-b6c4-4c79-9023-d62415796bdd",
   "metadata": {},
   "source": [
    "## on hw (ibm)"
   ]
  },
  {
   "cell_type": "code",
   "execution_count": 5,
   "id": "7b1f38a9-3188-4f24-8df2-ee5cb1b66db7",
   "metadata": {},
   "outputs": [],
   "source": [
    "import pennylane as qml"
   ]
  },
  {
   "cell_type": "code",
   "execution_count": 6,
   "id": "c5c118ba-1ae5-41a5-87bd-c557f52f11e5",
   "metadata": {},
   "outputs": [],
   "source": [
    "from qiskit_ibm_runtime import QiskitRuntimeService\n",
    "\n",
    "#QiskitRuntimeService.save_account(channel=\"ibm_quantum\", token=\"\")\n",
    "# To access saved credentials for the IBM quantum channel and select an instance\n",
    "service = QiskitRuntimeService(channel=\"ibm_quantum\", instance=\"ibm-q/open/main\")\n",
    "backend = service.least_busy(operational=True, simulator=False, min_num_qubits=3)\n",
    "\n",
    "# passing a string in backend would result in an error\n",
    "dev = qml.device('qiskit.remote', wires=3, backend=backend)"
   ]
  },
  {
   "cell_type": "code",
   "execution_count": 7,
   "id": "dd8eb1ef-b18a-4baa-97c1-9da71e6bd199",
   "metadata": {},
   "outputs": [],
   "source": [
    "#dev = qml.device(\"default.mixed\", wires=3, shots=1024)\n",
    "\n",
    "@qml.qnode(dev)\n",
    "def ghz():\n",
    "    qml.Hadamard(0)\n",
    "    qml.CNOT(wires=[0, 1])\n",
    "    qml.CNOT(wires=[1, 2])\n",
    "\n",
    "    return qml.counts(all_outcomes=True)"
   ]
  },
  {
   "cell_type": "code",
   "execution_count": 8,
   "id": "03a45545-9fd1-4324-a5cf-6aaa9aca5d9d",
   "metadata": {},
   "outputs": [
    {
     "data": {
      "text/plain": [
       "{'000': tensor(494, requires_grad=True),\n",
       " '001': tensor(2, requires_grad=True),\n",
       " '010': tensor(9, requires_grad=True),\n",
       " '011': tensor(15, requires_grad=True),\n",
       " '100': tensor(9, requires_grad=True),\n",
       " '101': tensor(1, requires_grad=True),\n",
       " '110': tensor(15, requires_grad=True),\n",
       " '111': tensor(479, requires_grad=True)}"
      ]
     },
     "execution_count": 8,
     "metadata": {},
     "output_type": "execute_result"
    }
   ],
   "source": [
    "ghz()"
   ]
  },
  {
   "cell_type": "code",
   "execution_count": null,
   "id": "82b91dfd-a7e6-4ee2-82f3-042794d3ebfa",
   "metadata": {},
   "outputs": [],
   "source": []
  }
 ],
 "metadata": {
  "kernelspec": {
   "display_name": "Python 3 (ipykernel)",
   "language": "python",
   "name": "python3"
  },
  "language_info": {
   "codemirror_mode": {
    "name": "ipython",
    "version": 3
   },
   "file_extension": ".py",
   "mimetype": "text/x-python",
   "name": "python",
   "nbconvert_exporter": "python",
   "pygments_lexer": "ipython3",
   "version": "3.10.12"
  }
 },
 "nbformat": 4,
 "nbformat_minor": 5
}
