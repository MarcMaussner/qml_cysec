{
 "cells": [
  {
   "cell_type": "markdown",
   "id": "a4b68a0b-bff1-4739-a5ba-0ea8faf5fec4",
   "metadata": {},
   "source": [
    "# Proof of concept for using crosstalk to manipulate output of circuit\n",
    "- noise/error_rates example taken from ibm_challenge 2024 lab4"
   ]
  },
  {
   "cell_type": "markdown",
   "id": "4696eb50-ee9d-4564-82bf-865a1894535a",
   "metadata": {},
   "source": [
    "## imports"
   ]
  },
  {
   "cell_type": "code",
   "execution_count": 1,
   "id": "b277721c-29fb-4602-914b-a7eec443d823",
   "metadata": {},
   "outputs": [],
   "source": [
    "# Import all in one cell\n",
    "\n",
    "import numpy as np\n",
    "import pandas as pd\n",
    "import matplotlib.pyplot as plt\n",
    "from scipy.optimize import minimize\n",
    "\n",
    "from qiskit import QuantumCircuit\n",
    "from qiskit.quantum_info import SparsePauliOp\n",
    "from qiskit.circuit.library import RealAmplitudes\n",
    "from qiskit.transpiler.preset_passmanagers import generate_preset_pass_manager\n",
    "from qiskit.transpiler import InstructionProperties\n",
    "from qiskit.visualization import plot_distribution\n",
    "from qiskit.providers.fake_provider import GenericBackendV2\n",
    "from qiskit.primitives import StatevectorEstimator\n",
    "\n",
    "from qiskit_aer import AerSimulator\n",
    "from qiskit_ibm_runtime import (\n",
    "    QiskitRuntimeService, \n",
    "    EstimatorV2 as Estimator,\n",
    "    SamplerV2 as Sampler,\n",
    "    EstimatorOptions\n",
    ")\n",
    "\n",
    "from qiskit.visualization import plot_histogram"
   ]
  },
  {
   "cell_type": "markdown",
   "id": "601c4a6f-39a4-48f4-9f84-3ba6d2fc85d3",
   "metadata": {},
   "source": [
    "## define fake backend and fake_noisy backend"
   ]
  },
  {
   "cell_type": "code",
   "execution_count": 2,
   "id": "33289197-2ce9-46fb-b62e-33f535341d22",
   "metadata": {},
   "outputs": [],
   "source": [
    "#define coupling map\n",
    "coupling_map = [[0,1],[1,0],[1,2],[2,1],[0,2],[2,0],[2,3],[3,2],[2,4],[4,2],[3,4],[4,3]]"
   ]
  },
  {
   "cell_type": "code",
   "execution_count": 3,
   "id": "25d1b358-cfe0-4b22-8c66-8a4ab7d4eba1",
   "metadata": {},
   "outputs": [],
   "source": [
    "fake_backend = GenericBackendV2(\n",
    "    num_qubits=5,\n",
    "    basis_gates=[\"id\", \"rz\", \"sx\", \"x\", \"cx\"],\n",
    "    coupling_map = coupling_map\n",
    "  )"
   ]
  },
  {
   "cell_type": "code",
   "execution_count": 4,
   "id": "c29c621d-64b5-4c15-85bb-b95d1b019bcc",
   "metadata": {},
   "outputs": [
    {
     "name": "stdout",
     "output_type": "stream",
     "text": [
      "[[0, 1], [1, 0], [1, 2], [2, 1], [0, 2], [2, 0], [2, 3], [3, 2], [2, 4], [4, 2], [3, 4], [4, 3]]\n"
     ]
    }
   ],
   "source": [
    "print(fake_backend.coupling_map)"
   ]
  },
  {
   "cell_type": "code",
   "execution_count": 5,
   "id": "19b240ab-5a39-4781-b015-f2c17f7145db",
   "metadata": {},
   "outputs": [
    {
     "data": {
      "image/png": "[encoded data removed]",
      "text/plain": [
       "<PIL.PngImagePlugin.PngImageFile image mode=RGBA size=195x243 at 0x7F9502A51360>"
      ]
     },
     "execution_count": 5,
     "metadata": {},
     "output_type": "execute_result"
    }
   ],
   "source": [
    "fake_backend.coupling_map.draw()"
   ]
  },
  {
   "cell_type": "code",
   "execution_count": 6,
   "id": "310f414b-8245-4200-b106-f55d8aa966f6",
   "metadata": {},
   "outputs": [],
   "source": [
    "fake_noisy_backend = GenericBackendV2(\n",
    "    num_qubits=5,\n",
    "    basis_gates=[\"id\", \"rz\", \"sx\", \"x\", \"cx\"],\n",
    "    coupling_map = coupling_map\n",
    "  )"
   ]
  },
  {
   "cell_type": "code",
   "execution_count": 7,
   "id": "9093f624-301d-49cf-a060-c0c6f645e256",
   "metadata": {},
   "outputs": [
    {
     "name": "stdout",
     "output_type": "stream",
     "text": [
      "Target: Generic Target with 5 qubits\n",
      "Number of qubits: 5\n",
      "Instructions:\n",
      "\tid\n",
      "\t\t(0,):\n",
      "\t\t\tDuration: 4.3512e-08 sec.\n",
      "\t\t\tError Rate: 9.597199551150542e-05\n",
      "\t\t(1,):\n",
      "\t\t\tDuration: 3.6852000000000005e-08 sec.\n",
      "\t\t\tError Rate: 9.479928308319267e-05\n",
      "\t\t(2,):\n",
      "\t\t\tDuration: 5.0394e-08 sec.\n",
      "\t\t\tError Rate: 9.066285815810387e-05\n",
      "\t\t(3,):\n",
      "\t\t\tDuration: 4.3068e-08 sec.\n",
      "\t\t\tError Rate: 9.22867222078475e-05\n",
      "\t\t(4,):\n",
      "\t\t\tDuration: 3.441e-08 sec.\n",
      "\t\t\tError Rate: 9.692669632056093e-05\n",
      "\trz\n",
      "\t\t(0,):\n",
      "\t\t\tDuration: 0.0 sec.\n",
      "\t\t\tError Rate: 0.0\n",
      "\t\t(1,):\n",
      "\t\t\tDuration: 0.0 sec.\n",
      "\t\t\tError Rate: 0.0\n",
      "\t\t(2,):\n",
      "\t\t\tDuration: 0.0 sec.\n",
      "\t\t\tError Rate: 0.0\n",
      "\t\t(3,):\n",
      "\t\t\tDuration: 0.0 sec.\n",
      "\t\t\tError Rate: 0.0\n",
      "\t\t(4,):\n",
      "\t\t\tDuration: 0.0 sec.\n",
      "\t\t\tError Rate: 0.0\n",
      "\tsx\n",
      "\t\t(0,):\n",
      "\t\t\tDuration: 4.6398e-08 sec.\n",
      "\t\t\tError Rate: 9.69264108343935e-05\n",
      "\t\t(1,):\n",
      "\t\t\tDuration: 5.9052000000000005e-08 sec.\n",
      "\t\t\tError Rate: 9.450770949271228e-05\n",
      "\t\t(2,):\n",
      "\t\t\tDuration: 4.1514000000000004e-08 sec.\n",
      "\t\t\tError Rate: 9.217731246287728e-05\n",
      "\t\t(3,):\n",
      "\t\t\tDuration: 4.7952000000000005e-08 sec.\n",
      "\t\t\tError Rate: 9.932107842008273e-05\n",
      "\t\t(4,):\n",
      "\t\t\tDuration: 4.1736000000000004e-08 sec.\n",
      "\t\t\tError Rate: 9.683427909442375e-05\n",
      "\tx\n",
      "\t\t(0,):\n",
      "\t\t\tDuration: 5.9718e-08 sec.\n",
      "\t\t\tError Rate: 9.474212732152578e-05\n",
      "\t\t(1,):\n",
      "\t\t\tDuration: 3.8406e-08 sec.\n",
      "\t\t\tError Rate: 9.272845296909525e-05\n",
      "\t\t(2,):\n",
      "\t\t\tDuration: 3.8628e-08 sec.\n",
      "\t\t\tError Rate: 9.841726411809633e-05\n",
      "\t\t(3,):\n",
      "\t\t\tDuration: 5.0394e-08 sec.\n",
      "\t\t\tError Rate: 9.533532409321324e-05\n",
      "\t\t(4,):\n",
      "\t\t\tDuration: 5.8830000000000005e-08 sec.\n",
      "\t\t\tError Rate: 9.522387905883886e-05\n",
      "\tcx\n",
      "\t\t(0, 1):\n",
      "\t\t\tDuration: 7.84548e-07 sec.\n",
      "\t\t\tError Rate: 0.0021719554958823336\n",
      "\t\t(1, 0):\n",
      "\t\t\tDuration: 1.5762e-07 sec.\n",
      "\t\t\tError Rate: 0.003047132387371541\n",
      "\t\t(1, 2):\n",
      "\t\t\tDuration: 3.4188e-07 sec.\n",
      "\t\t\tError Rate: 0.00037405440492813727\n",
      "\t\t(2, 1):\n",
      "\t\t\tDuration: 6.84648e-07 sec.\n",
      "\t\t\tError Rate: 0.002834324085745287\n",
      "\t\t(0, 2):\n",
      "\t\t\tDuration: 3.75846e-07 sec.\n",
      "\t\t\tError Rate: 0.0022713093327952597\n",
      "\t\t(2, 0):\n",
      "\t\t\tDuration: 4.67754e-07 sec.\n",
      "\t\t\tError Rate: 0.00018204620431632945\n",
      "\t\t(2, 3):\n",
      "\t\t\tDuration: 4.3734e-07 sec.\n",
      "\t\t\tError Rate: 0.0035935220944918996\n",
      "\t\t(3, 2):\n",
      "\t\t\tDuration: 2.0401800000000002e-07 sec.\n",
      "\t\t\tError Rate: 0.001045803369413083\n",
      "\t\t(2, 4):\n",
      "\t\t\tDuration: 6.189360000000001e-07 sec.\n",
      "\t\t\tError Rate: 0.0009819189769282423\n",
      "\t\t(4, 2):\n",
      "\t\t\tDuration: 6.948600000000001e-07 sec.\n",
      "\t\t\tError Rate: 0.0017681509673186982\n",
      "\t\t(3, 4):\n",
      "\t\t\tDuration: 8.88444e-07 sec.\n",
      "\t\t\tError Rate: 0.00407691277831868\n",
      "\t\t(4, 3):\n",
      "\t\t\tDuration: 4.1003400000000003e-07 sec.\n",
      "\t\t\tError Rate: 0.004587865152221555\n",
      "\treset\n",
      "\t\t(0,):\n",
      "\t\t(1,):\n",
      "\t\t(2,):\n",
      "\t\t(3,):\n",
      "\t\t(4,):\n",
      "\tdelay\n",
      "\t\t(0,):\n",
      "\t\t(1,):\n",
      "\t\t(2,):\n",
      "\t\t(3,):\n",
      "\t\t(4,):\n",
      "\tmeasure\n",
      "\t\t(0,):\n",
      "\t\t\tDuration: 1.284048e-06 sec.\n",
      "\t\t\tError Rate: 0.0033379363938279174\n",
      "\t\t(1,):\n",
      "\t\t\tDuration: 1.032744e-06 sec.\n",
      "\t\t\tError Rate: 0.004100866394745073\n",
      "\t\t(2,):\n",
      "\t\t\tDuration: 1.151736e-06 sec.\n",
      "\t\t\tError Rate: 0.0028384615319674796\n",
      "\t\t(3,):\n",
      "\t\t\tDuration: 1.356642e-06 sec.\n",
      "\t\t\tError Rate: 0.0028235195603328175\n",
      "\t\t(4,):\n",
      "\t\t\tDuration: 1.142634e-06 sec.\n",
      "\t\t\tError Rate: 0.000559456112876855\n",
      "\n"
     ]
    }
   ],
   "source": [
    "print(fake_noisy_backend.target)"
   ]
  },
  {
   "cell_type": "code",
   "execution_count": 8,
   "id": "cc7efb8f-90a5-406b-817f-f222bc9f6d39",
   "metadata": {},
   "outputs": [],
   "source": [
    "def update_error_rate(backend, error_rates):\n",
    "\n",
    "    \"\"\"Updates the error rates of the backend\n",
    "\n",
    "    Parameters: \n",
    "        backend (BackendV2): Backend to update\n",
    "        error_rates (dict): Dictionary of error rates\n",
    "\n",
    "    Returns:    \n",
    "        None\n",
    "    \"\"\"\n",
    "\n",
    "    default_duration=1e-8\n",
    "    if \"default_duration\" in error_rates:\n",
    "        default_duration = error_rates[\"default_duration\"]\n",
    "\n",
    "    # Update the 1-qubit gate properties \n",
    "    for i in range(backend.num_qubits):\n",
    "        qarg = (i,)\n",
    "        if \"rz_error\" in error_rates:\n",
    "            backend.target.update_instruction_properties('rz', qarg, InstructionProperties(error=error_rates[\"rz_error\"], duration=default_duration))\n",
    "        if \"x_error\" in error_rates:\n",
    "            backend.target.update_instruction_properties('x', qarg, InstructionProperties(error=error_rates[\"x_error\"], duration=default_duration))\n",
    "        if \"sx_error\" in error_rates:\n",
    "            backend.target.update_instruction_properties('sx', qarg, InstructionProperties(error=error_rates[\"sx_error\"], duration=default_duration)) \n",
    "        if \"measure_error\" in error_rates:\n",
    "            backend.target.update_instruction_properties('measure', qarg, InstructionProperties(error=error_rates[\"measure_error\"], duration=default_duration))            \n",
    "    \n",
    "    # Update the 2-qubit gate properties (CX gate) for all edges in the chosen coupling map\n",
    "    if \"cx_error\" in error_rates:    \n",
    "        for edge in backend.coupling_map:\n",
    "            backend.target.update_instruction_properties('cx', tuple(edge), InstructionProperties(error=error_rates[\"cx_error\"], duration=default_duration))"
   ]
  },
  {
   "cell_type": "code",
   "execution_count": 9,
   "id": "9144280f-e271-4ad3-9ddd-d186adc4b953",
   "metadata": {},
   "outputs": [],
   "source": [
    "error_rates = {\n",
    "  #\"default_duration\": 1e-8,\n",
    "  #\"rz_error\": 1e-8,\n",
    "  \"x_error\": 1e-4,\n",
    "  #\"sx_error\": 1e-8,\n",
    "  #\"measure_error\": 1e-8,\n",
    "  \"cx_error\": 2e-2\n",
    "}\n",
    "\n",
    "update_error_rate(fake_noisy_backend, error_rates)"
   ]
  },
  {
   "cell_type": "code",
   "execution_count": 10,
   "id": "05b3b3f3-a288-4606-a368-da9a324c312b",
   "metadata": {},
   "outputs": [
    {
     "name": "stdout",
     "output_type": "stream",
     "text": [
      "Target: Generic Target with 5 qubits\n",
      "Number of qubits: 5\n",
      "Instructions:\n",
      "\tid\n",
      "\t\t(0,):\n",
      "\t\t\tDuration: 4.3512e-08 sec.\n",
      "\t\t\tError Rate: 9.597199551150542e-05\n",
      "\t\t(1,):\n",
      "\t\t\tDuration: 3.6852000000000005e-08 sec.\n",
      "\t\t\tError Rate: 9.479928308319267e-05\n",
      "\t\t(2,):\n",
      "\t\t\tDuration: 5.0394e-08 sec.\n",
      "\t\t\tError Rate: 9.066285815810387e-05\n",
      "\t\t(3,):\n",
      "\t\t\tDuration: 4.3068e-08 sec.\n",
      "\t\t\tError Rate: 9.22867222078475e-05\n",
      "\t\t(4,):\n",
      "\t\t\tDuration: 3.441e-08 sec.\n",
      "\t\t\tError Rate: 9.692669632056093e-05\n",
      "\trz\n",
      "\t\t(0,):\n",
      "\t\t\tDuration: 0.0 sec.\n",
      "\t\t\tError Rate: 0.0\n",
      "\t\t(1,):\n",
      "\t\t\tDuration: 0.0 sec.\n",
      "\t\t\tError Rate: 0.0\n",
      "\t\t(2,):\n",
      "\t\t\tDuration: 0.0 sec.\n",
      "\t\t\tError Rate: 0.0\n",
      "\t\t(3,):\n",
      "\t\t\tDuration: 0.0 sec.\n",
      "\t\t\tError Rate: 0.0\n",
      "\t\t(4,):\n",
      "\t\t\tDuration: 0.0 sec.\n",
      "\t\t\tError Rate: 0.0\n",
      "\tsx\n",
      "\t\t(0,):\n",
      "\t\t\tDuration: 4.6398e-08 sec.\n",
      "\t\t\tError Rate: 9.69264108343935e-05\n",
      "\t\t(1,):\n",
      "\t\t\tDuration: 5.9052000000000005e-08 sec.\n",
      "\t\t\tError Rate: 9.450770949271228e-05\n",
      "\t\t(2,):\n",
      "\t\t\tDuration: 4.1514000000000004e-08 sec.\n",
      "\t\t\tError Rate: 9.217731246287728e-05\n",
      "\t\t(3,):\n",
      "\t\t\tDuration: 4.7952000000000005e-08 sec.\n",
      "\t\t\tError Rate: 9.932107842008273e-05\n",
      "\t\t(4,):\n",
      "\t\t\tDuration: 4.1736000000000004e-08 sec.\n",
      "\t\t\tError Rate: 9.683427909442375e-05\n",
      "\tx\n",
      "\t\t(0,):\n",
      "\t\t\tDuration: 1e-08 sec.\n",
      "\t\t\tError Rate: 0.0001\n",
      "\t\t(1,):\n",
      "\t\t\tDuration: 1e-08 sec.\n",
      "\t\t\tError Rate: 0.0001\n",
      "\t\t(2,):\n",
      "\t\t\tDuration: 1e-08 sec.\n",
      "\t\t\tError Rate: 0.0001\n",
      "\t\t(3,):\n",
      "\t\t\tDuration: 1e-08 sec.\n",
      "\t\t\tError Rate: 0.0001\n",
      "\t\t(4,):\n",
      "\t\t\tDuration: 1e-08 sec.\n",
      "\t\t\tError Rate: 0.0001\n",
      "\tcx\n",
      "\t\t(0, 1):\n",
      "\t\t\tDuration: 1e-08 sec.\n",
      "\t\t\tError Rate: 0.02\n",
      "\t\t(1, 0):\n",
      "\t\t\tDuration: 1e-08 sec.\n",
      "\t\t\tError Rate: 0.02\n",
      "\t\t(1, 2):\n",
      "\t\t\tDuration: 1e-08 sec.\n",
      "\t\t\tError Rate: 0.02\n",
      "\t\t(2, 1):\n",
      "\t\t\tDuration: 1e-08 sec.\n",
      "\t\t\tError Rate: 0.02\n",
      "\t\t(0, 2):\n",
      "\t\t\tDuration: 1e-08 sec.\n",
      "\t\t\tError Rate: 0.02\n",
      "\t\t(2, 0):\n",
      "\t\t\tDuration: 1e-08 sec.\n",
      "\t\t\tError Rate: 0.02\n",
      "\t\t(2, 3):\n",
      "\t\t\tDuration: 1e-08 sec.\n",
      "\t\t\tError Rate: 0.02\n",
      "\t\t(3, 2):\n",
      "\t\t\tDuration: 1e-08 sec.\n",
      "\t\t\tError Rate: 0.02\n",
      "\t\t(2, 4):\n",
      "\t\t\tDuration: 1e-08 sec.\n",
      "\t\t\tError Rate: 0.02\n",
      "\t\t(4, 2):\n",
      "\t\t\tDuration: 1e-08 sec.\n",
      "\t\t\tError Rate: 0.02\n",
      "\t\t(3, 4):\n",
      "\t\t\tDuration: 1e-08 sec.\n",
      "\t\t\tError Rate: 0.02\n",
      "\t\t(4, 3):\n",
      "\t\t\tDuration: 1e-08 sec.\n",
      "\t\t\tError Rate: 0.02\n",
      "\treset\n",
      "\t\t(0,):\n",
      "\t\t(1,):\n",
      "\t\t(2,):\n",
      "\t\t(3,):\n",
      "\t\t(4,):\n",
      "\tdelay\n",
      "\t\t(0,):\n",
      "\t\t(1,):\n",
      "\t\t(2,):\n",
      "\t\t(3,):\n",
      "\t\t(4,):\n",
      "\tmeasure\n",
      "\t\t(0,):\n",
      "\t\t\tDuration: 1.284048e-06 sec.\n",
      "\t\t\tError Rate: 0.0033379363938279174\n",
      "\t\t(1,):\n",
      "\t\t\tDuration: 1.032744e-06 sec.\n",
      "\t\t\tError Rate: 0.004100866394745073\n",
      "\t\t(2,):\n",
      "\t\t\tDuration: 1.151736e-06 sec.\n",
      "\t\t\tError Rate: 0.0028384615319674796\n",
      "\t\t(3,):\n",
      "\t\t\tDuration: 1.356642e-06 sec.\n",
      "\t\t\tError Rate: 0.0028235195603328175\n",
      "\t\t(4,):\n",
      "\t\t\tDuration: 1.142634e-06 sec.\n",
      "\t\t\tError Rate: 0.000559456112876855\n",
      "\n"
     ]
    }
   ],
   "source": [
    "print(fake_noisy_backend.target)"
   ]
  },
  {
   "cell_type": "markdown",
   "id": "3d0afb61-bcd8-441c-a33a-d692514f1df3",
   "metadata": {},
   "source": [
    "## define our dummy circuit"
   ]
  },
  {
   "cell_type": "code",
   "execution_count": 11,
   "id": "679824ae-721d-4e15-9c39-1856a295387b",
   "metadata": {},
   "outputs": [
    {
     "data": {
      "image/png": "[encoded data removed]",
      "text/plain": [
       "<Figure size 998.442x535.111 with 1 Axes>"
      ]
     },
     "execution_count": 11,
     "metadata": {},
     "output_type": "execute_result"
    }
   ],
   "source": [
    "# Make a quantum circuit -> GHZ state\n",
    "qc = QuantumCircuit(5)#Add your code\n",
    "qc.h(0)\n",
    "qc.cx(0,1)\n",
    "qc.cx(1,2)\n",
    "qc.cx(2,3)\n",
    "qc.measure_all()\n",
    "\n",
    "qc.draw(\"mpl\")"
   ]
  },
  {
   "cell_type": "markdown",
   "id": "a52d086d-0395-459d-a0bf-bb56bd78d841",
   "metadata": {},
   "source": [
    "## use fake backend"
   ]
  },
  {
   "cell_type": "code",
   "execution_count": 12,
   "id": "cd75d258-e6f3-4a1c-88fd-473b5524b449",
   "metadata": {},
   "outputs": [],
   "source": [
    "sampler = Sampler(fake_backend)\n",
    "pm = generate_preset_pass_manager(optimization_level=0, backend=fake_backend, seed_transpiler=0)"
   ]
  },
  {
   "cell_type": "code",
   "execution_count": 13,
   "id": "c99af462-1d51-4beb-bcda-a107d27513eb",
   "metadata": {},
   "outputs": [],
   "source": [
    "qc_isa = pm.run(qc)"
   ]
  },
  {
   "cell_type": "code",
   "execution_count": 14,
   "id": "c3197f53-5049-4906-8215-b0801900c118",
   "metadata": {},
   "outputs": [
    {
     "name": "stdout",
     "output_type": "stream",
     "text": [
      "{'01111': 472, '00000': 515, '01110': 3, '00011': 1, '01011': 4, '00001': 1, '01101': 1, '00111': 3}\n"
     ]
    }
   ],
   "source": [
    "pub = (qc_isa)\n",
    "job_sampler = sampler.run([pub], shots=1000)\n",
    "\n",
    "result_sampler = job_sampler.result()\n",
    "counts_sampler = result_sampler[0].data.meas.get_counts()\n",
    "\n",
    "print(counts_sampler)"
   ]
  },
  {
   "cell_type": "code",
   "execution_count": 15,
   "id": "6913da41-837b-42ad-bbd9-dc7d843fb625",
   "metadata": {},
   "outputs": [
    {
     "data": {
      "image/png": "[encoded data removed]",
      "text/plain": [
       "<Figure size 640x480 with 1 Axes>"
      ]
     },
     "execution_count": 15,
     "metadata": {},
     "output_type": "execute_result"
    }
   ],
   "source": [
    "plot_histogram(counts_sampler)"
   ]
  },
  {
   "cell_type": "markdown",
   "id": "d310052e-db82-4260-9029-aa77113d38b1",
   "metadata": {},
   "source": [
    "## use fake noisy backend"
   ]
  },
  {
   "cell_type": "code",
   "execution_count": 16,
   "id": "539fd14f-22d4-493b-adfb-565e5c850276",
   "metadata": {},
   "outputs": [],
   "source": [
    "sampler = Sampler(fake_noisy_backend)\n",
    "pm = generate_preset_pass_manager(optimization_level=0, backend=fake_noisy_backend, seed_transpiler=0)"
   ]
  },
  {
   "cell_type": "code",
   "execution_count": 17,
   "id": "19aa9945-75e0-4c57-8978-fe0cd4d5b7af",
   "metadata": {},
   "outputs": [],
   "source": [
    "qc_isa_noise = pm.run(qc)"
   ]
  },
  {
   "cell_type": "code",
   "execution_count": 18,
   "id": "4b988f07-7ff9-42c3-bc0c-589de16b493f",
   "metadata": {},
   "outputs": [
    {
     "name": "stdout",
     "output_type": "stream",
     "text": [
      "{'01111': 484, '00000': 448, '00100': 5, '01110': 7, '00001': 17, '01000': 1, '00010': 7, '01100': 5, '01011': 6, '00011': 6, '01001': 1, '01010': 1, '01101': 7, '00111': 5}\n"
     ]
    }
   ],
   "source": [
    "pub = (qc_isa_noise)\n",
    "job_sampler = sampler.run([pub], shots=1000)\n",
    "\n",
    "result_sampler = job_sampler.result()\n",
    "counts_sampler = result_sampler[0].data.meas.get_counts()\n",
    "\n",
    "print(counts_sampler)"
   ]
  },
  {
   "cell_type": "code",
   "execution_count": 19,
   "id": "701c1aa6-3d2b-49d9-8d7f-dd4e477827bf",
   "metadata": {},
   "outputs": [
    {
     "data": {
      "image/png": "[encoded data removed]",
      "text/plain": [
       "<Figure size 640x480 with 1 Axes>"
      ]
     },
     "execution_count": 19,
     "metadata": {},
     "output_type": "execute_result"
    }
   ],
   "source": [
    "plot_histogram(counts_sampler)"
   ]
  },
  {
   "cell_type": "markdown",
   "id": "30d11759-0714-4bad-bc3b-0f90223e8974",
   "metadata": {},
   "source": [
    "## manipulate circuit 1q-gate"
   ]
  },
  {
   "cell_type": "code",
   "execution_count": 20,
   "id": "2103ca7c-f65a-4d39-a6e2-a097cf555bc9",
   "metadata": {},
   "outputs": [],
   "source": [
    "qc_manipulate = QuantumCircuit(5,5)"
   ]
  },
  {
   "cell_type": "code",
   "execution_count": 21,
   "id": "afb9ed90-8fec-41e0-8891-ed0d97c5cae2",
   "metadata": {},
   "outputs": [],
   "source": [
    "for i in range(0,10000):\n",
    "    qc_manipulate.h(1)"
   ]
  },
  {
   "cell_type": "code",
   "execution_count": 22,
   "id": "28fd2b53-b7e9-4566-8120-a3738ded7978",
   "metadata": {},
   "outputs": [],
   "source": [
    "qc_manipulate = qc_manipulate.compose(qc)\n",
    "qc_manipulate.measure_all()"
   ]
  },
  {
   "cell_type": "code",
   "execution_count": 23,
   "id": "cbc8c491-f586-4768-b027-6f0ac0e25836",
   "metadata": {},
   "outputs": [],
   "source": [
    "#qc_manipulate.draw(\"mpl\")"
   ]
  },
  {
   "cell_type": "code",
   "execution_count": 24,
   "id": "7322d870-56a2-42a7-88ac-0bdbbd597e68",
   "metadata": {},
   "outputs": [],
   "source": [
    "qc_isa_tempered = pm.run(qc_manipulate)"
   ]
  },
  {
   "cell_type": "code",
   "execution_count": 25,
   "id": "ad927701-60f4-418d-bb20-5180e26b85bb",
   "metadata": {},
   "outputs": [],
   "source": [
    "#qc_isa_tempered.draw(\"mpl\")"
   ]
  },
  {
   "cell_type": "code",
   "execution_count": 26,
   "id": "f636644b-76c3-4d02-b65b-65cc52a2dac4",
   "metadata": {},
   "outputs": [
    {
     "name": "stdout",
     "output_type": "stream",
     "text": [
      "{'01111': 375, '00000': 355, '01110': 123, '00001': 104, '01101': 6, '01010': 2, '01011': 4, '01000': 4, '00111': 2, '00010': 7, '01100': 5, '01001': 2, '00011': 9, '00101': 1, '00100': 1}\n"
     ]
    }
   ],
   "source": [
    "pub = (qc_isa_tempered)\n",
    "job_sampler = sampler.run([pub], shots=1000)\n",
    "\n",
    "result_sampler = job_sampler.result()\n",
    "counts_sampler = result_sampler[0].data.meas.get_counts()\n",
    "\n",
    "print(counts_sampler)"
   ]
  },
  {
   "cell_type": "code",
   "execution_count": 27,
   "id": "242b9cb6-1cdf-4496-970e-7b926333ab4b",
   "metadata": {},
   "outputs": [
    {
     "data": {
      "image/png": "[encoded data removed]",
      "text/plain": [
       "<Figure size 640x480 with 1 Axes>"
      ]
     },
     "execution_count": 27,
     "metadata": {},
     "output_type": "execute_result"
    }
   ],
   "source": [
    "plot_histogram(counts_sampler)"
   ]
  },
  {
   "cell_type": "markdown",
   "id": "8f9ee4d0-8c66-45fc-8462-2ec41d49ebd9",
   "metadata": {},
   "source": [
    "## manipulate circuit 2q-gate"
   ]
  },
  {
   "cell_type": "code",
   "execution_count": 28,
   "id": "dd553c0b-5609-4447-bcb8-752c881f4104",
   "metadata": {},
   "outputs": [],
   "source": [
    "qc_manipulate2 = QuantumCircuit(5,5)"
   ]
  },
  {
   "cell_type": "code",
   "execution_count": 29,
   "id": "371e296b-c043-448b-901b-76e9817bf352",
   "metadata": {},
   "outputs": [],
   "source": [
    "for i in range(0,1000):\n",
    "    qc_manipulate2.cx(0,1)"
   ]
  },
  {
   "cell_type": "code",
   "execution_count": 30,
   "id": "2816d3c6-b2fb-46e8-a53a-e878f89b6d4d",
   "metadata": {},
   "outputs": [],
   "source": [
    "qc_manipulate2 = qc_manipulate2.compose(qc)\n",
    "qc_manipulate2.measure_all()"
   ]
  },
  {
   "cell_type": "code",
   "execution_count": 31,
   "id": "12cd7b7b-e840-4c05-8165-e2b115c2b33d",
   "metadata": {},
   "outputs": [],
   "source": [
    "qc_isa_tempered2 = pm.run(qc_manipulate2)"
   ]
  },
  {
   "cell_type": "code",
   "execution_count": 32,
   "id": "7c381f83-c19d-4e44-b8e6-abed047d13b5",
   "metadata": {},
   "outputs": [
    {
     "name": "stdout",
     "output_type": "stream",
     "text": [
      "{'00000': 237, '00001': 255, '01111': 251, '01110': 212, '00110': 4, '01101': 10, '01100': 5, '01010': 2, '00111': 2, '00100': 1, '01001': 3, '00011': 7, '00010': 6, '11111': 1, '01000': 1, '01011': 3}\n"
     ]
    }
   ],
   "source": [
    "pub = (qc_isa_tempered2)\n",
    "job_sampler = sampler.run([pub], shots=1000)\n",
    "\n",
    "result_sampler = job_sampler.result()\n",
    "counts_sampler = result_sampler[0].data.meas.get_counts()\n",
    "\n",
    "print(counts_sampler)"
   ]
  },
  {
   "cell_type": "code",
   "execution_count": 33,
   "id": "0408c9b7-a3fe-41a9-81a7-bfce921224bc",
   "metadata": {},
   "outputs": [
    {
     "data": {
      "image/png": "[encoded data removed]",
      "text/plain": [
       "<Figure size 640x480 with 1 Axes>"
      ]
     },
     "execution_count": 33,
     "metadata": {},
     "output_type": "execute_result"
    }
   ],
   "source": [
    "plot_histogram(counts_sampler)"
   ]
  },
  {
   "cell_type": "code",
   "execution_count": null,
   "id": "9ee933f8-0341-43e7-86a5-3fa2ad400b04",
   "metadata": {},
   "outputs": [],
   "source": []
  }
 ],
 "metadata": {
  "kernelspec": {
   "display_name": "Python 3 (ipykernel)",
   "language": "python",
   "name": "python3"
  },
  "language_info": {
   "codemirror_mode": {
    "name": "ipython",
    "version": 3
   },
   "file_extension": ".py",
   "mimetype": "text/x-python",
   "name": "python",
   "nbconvert_exporter": "python",
   "pygments_lexer": "ipython3",
   "version": "3.10.12"
  }
 },
 "nbformat": 4,
 "nbformat_minor": 5
}
